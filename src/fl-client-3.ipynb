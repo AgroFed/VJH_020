{
 "cells": [
  {
   "cell_type": "code",
   "execution_count": 1,
   "id": "7f8df444",
   "metadata": {},
   "outputs": [],
   "source": [
    "%load_ext autoreload\n",
    "%autoreload 2\n",
    "\n",
    "import copy, os, socket, sys, time\n",
    "from pathlib import Path\n",
    "from tqdm import tqdm\n",
    "\n",
    "import torch\n",
    "from torch import optim\n",
    "\n",
    "sys.path.insert(0, os.path.abspath(os.path.join(os.getcwd(), \"../\")))\n",
    "from libs import data, fl, nn, wandb\n",
    "from libs.distributed import *"
   ]
  },
  {
   "cell_type": "code",
   "execution_count": 2,
   "id": "cd71aade",
   "metadata": {},
   "outputs": [],
   "source": [
    "class FedArgs():\n",
    "    def __init__(self):\n",
    "        self.name = \"client-3\"\n",
    "        self.num_clients = 50\n",
    "        self.epochs = 51\n",
    "        self.local_rounds = 1\n",
    "        self.client_batch_size = 32\n",
    "        self.test_batch_size = 64\n",
    "        self.learning_rate = 0.001\n",
    "        self.weight_decay = None\n",
    "        self.cuda = False\n",
    "        self.seed = 1\n",
    "        self.topic = \"VJH_020_2\"\n",
    "        self.broker_ip = '172.16.26.40:9092'\n",
    "        self.schema_ip = 'http://172.16.26.40:8081'\n",
    "        self.wait_to_consume = 10\n",
    "        self.dataset = \"lemon\"\n",
    "        self.model = nn.LemonNet()\n",
    "        self.train_func = fl.train_model\n",
    "        self.eval_func = fl.evaluate\n",
    "        \n",
    "fedargs = FedArgs()"
   ]
  },
  {
   "cell_type": "code",
   "execution_count": 3,
   "id": "e6f6d316",
   "metadata": {},
   "outputs": [
    {
     "name": "stderr",
     "output_type": "stream",
     "text": [
      "\u001b[34m\u001b[1mwandb\u001b[0m: Currently logged in as: \u001b[33mkasyah\u001b[0m (use `wandb login --relogin` to force relogin)\n",
      "\u001b[34m\u001b[1mwandb\u001b[0m: wandb version 0.12.6 is available!  To upgrade, please run:\n",
      "\u001b[34m\u001b[1mwandb\u001b[0m:  $ pip install wandb --upgrade\n"
     ]
    },
    {
     "data": {
      "text/html": [
       "\n",
       "                    Syncing run <strong><a href=\"https://wandb.ai/kasyah/fl-kafka-client/runs/2ltv00ww\" target=\"_blank\">VJH_020_1-client-3</a></strong> to <a href=\"https://wandb.ai/kasyah/fl-kafka-client\" target=\"_blank\">Weights & Biases</a> (<a href=\"https://docs.wandb.com/integrations/jupyter.html\" target=\"_blank\">docs</a>).<br/>\n",
       "\n",
       "                "
      ],
      "text/plain": [
       "<IPython.core.display.HTML object>"
      ]
     },
     "metadata": {},
     "output_type": "display_data"
    }
   ],
   "source": [
    "project = 'fl-kafka-client'\n",
    "name = 'VJH_020_1-' + fedargs.name\n",
    "wb = wandb.init(name, project)\n",
    "fedargs.num_clients = 1"
   ]
  },
  {
   "cell_type": "code",
   "execution_count": 4,
   "id": "badfa0d8",
   "metadata": {},
   "outputs": [],
   "source": [
    "use_cuda = fedargs.cuda and torch.cuda.is_available()\n",
    "torch.manual_seed(fedargs.seed)\n",
    "device = torch.device(\"cuda\" if use_cuda else \"cpu\")\n",
    "kwargs = {\"num_workers\": 1, \"pin_memory\": True} if use_cuda else {}"
   ]
  },
  {
   "cell_type": "code",
   "execution_count": 5,
   "id": "4cfa76c6",
   "metadata": {},
   "outputs": [],
   "source": [
    "host = socket.gethostname()\n",
    "clients = [host + \": \" + fedargs.name]\n",
    "dt = Distributed(clients, fedargs.broker_ip, fedargs.schema_ip, fedargs.wait_to_consume)"
   ]
  },
  {
   "cell_type": "code",
   "execution_count": 6,
   "id": "ad76a57c",
   "metadata": {},
   "outputs": [],
   "source": [
    "# Initialize Global and Client models\n",
    "global_model = copy.deepcopy(fedargs.model)\n",
    "# Load Data to clients\n",
    "train_loader, test_loader = data.load_dataset(fedargs.dataset, fedargs.client_batch_size, fedargs.test_batch_size)\n",
    "\n",
    "client_details = {\"name\": clients[0],\n",
    "                  \"train_loader\": train_loader,\n",
    "                  \"test_loader\": test_loader,\n",
    "                  \"model\": copy.deepcopy(global_model),\n",
    "                  \"model_update\": None}"
   ]
  },
  {
   "cell_type": "code",
   "execution_count": 7,
   "id": "a453be25",
   "metadata": {},
   "outputs": [],
   "source": [
    "def process(client, epoch, dt, model, train_loader, test_loader, fedargs, device):\n",
    "    # Consume Models\n",
    "    client_model_updates = dt.consume_model(client, fedargs.topic, model, epoch)\n",
    "    if client in client_model_updates:\n",
    "        client_model_updates.pop(client)\n",
    "    print(\"Epoch: {}, Processing Client {}, Received {} Updates From {}\".format(epoch, client, \n",
    "                                                                                len(client_model_updates), \n",
    "                                                                                list(client_model_updates.keys())))\n",
    "\n",
    "    #if len(client_model_updates) != 0:\n",
    "    #    model = fl.federated_avg(client_model_updates)\n",
    "    \n",
    "    # Train\n",
    "    model_update, model, loss = fedargs.train_func(model, train_loader, \n",
    "                                                   fedargs.learning_rate,\n",
    "                                                   fedargs.weight_decay,\n",
    "                                                   fedargs.local_rounds, device)\n",
    "    \n",
    "    # Publish Model\n",
    "    epoch = epoch + 1\n",
    "    dt.produce_model(client, fedargs.topic, model, epoch)\n",
    "\n",
    "    # Test, Plot and Log\n",
    "    test_output = fedargs.eval_func(model, test_loader, device)\n",
    "    print(\"Epoch: {}, Accuracy: {}, Test Loss: {}\".format(epoch, test_output[\"accuracy\"], test_output[\"test_loss\"]))\n",
    "    wb.log({client: {\"epoch\": epoch, \"time\": time.time(), \"acc\": test_output[\"accuracy\"], \"loss\": test_output[\"test_loss\"]}})\n",
    "\n",
    "    return model"
   ]
  },
  {
   "cell_type": "code",
   "execution_count": 8,
   "id": "3ede4728",
   "metadata": {},
   "outputs": [
    {
     "name": "stderr",
     "output_type": "stream",
     "text": [
      "\r",
      "  0%|          | 0/51 [00:00<?, ?it/s]"
     ]
    },
    {
     "name": "stdout",
     "output_type": "stream",
     "text": [
      "Federated Training Epoch 0 of 51\n",
      "Epoch: 0, Processing Client bladecluster.iitp.org: client-3, Received 2 Updates From ['bladecluster.iitp.org: client-2', 'bladecluster.iitp.org: client-1']\n",
      "Producing user records to topic VJH_020_2. ^C to exit.\n",
      "Flushing records...\n",
      "User record b'bladecluster.iitp.org: client-3' successfully produced to VJH_020_2 [0] at offset 626\n"
     ]
    },
    {
     "name": "stderr",
     "output_type": "stream",
     "text": [
      "\r",
      "  2%|▏         | 1/51 [00:27<23:14, 27.89s/it]"
     ]
    },
    {
     "name": "stdout",
     "output_type": "stream",
     "text": [
      "Epoch: 1, Accuracy: 73.0, Test Loss: 5.846963348388672\n",
      "Federated Training Epoch 1 of 51\n",
      "Epoch: 1, Processing Client bladecluster.iitp.org: client-3, Received 0 Updates From []\n",
      "Producing user records to topic VJH_020_2. ^C to exit.\n",
      "Flushing records...\n",
      "User record b'bladecluster.iitp.org: client-3' successfully produced to VJH_020_2 [0] at offset 627\n"
     ]
    },
    {
     "name": "stderr",
     "output_type": "stream",
     "text": [
      "\r",
      "  4%|▍         | 2/51 [00:57<23:30, 28.78s/it]"
     ]
    },
    {
     "name": "stdout",
     "output_type": "stream",
     "text": [
      "Epoch: 2, Accuracy: 73.0, Test Loss: 6.356092834472657\n",
      "Federated Training Epoch 2 of 51\n",
      "Epoch: 2, Processing Client bladecluster.iitp.org: client-3, Received 1 Updates From ['bladecluster.iitp.org: client-1']\n",
      "Producing user records to topic VJH_020_2. ^C to exit.\n",
      "Flushing records...\n",
      "User record b'bladecluster.iitp.org: client-3' successfully produced to VJH_020_2 [0] at offset 629\n"
     ]
    },
    {
     "name": "stderr",
     "output_type": "stream",
     "text": [
      "\r",
      "  6%|▌         | 3/51 [01:25<22:38, 28.30s/it]"
     ]
    },
    {
     "name": "stdout",
     "output_type": "stream",
     "text": [
      "Epoch: 3, Accuracy: 79.0, Test Loss: 5.468836517333984\n",
      "Federated Training Epoch 3 of 51\n",
      "Epoch: 3, Processing Client bladecluster.iitp.org: client-3, Received 0 Updates From []\n",
      "Producing user records to topic VJH_020_2. ^C to exit.\n",
      "Flushing records...\n",
      "User record b'bladecluster.iitp.org: client-3' successfully produced to VJH_020_2 [0] at offset 631\n"
     ]
    },
    {
     "name": "stderr",
     "output_type": "stream",
     "text": [
      "\r",
      "  8%|▊         | 4/51 [01:53<22:18, 28.48s/it]"
     ]
    },
    {
     "name": "stdout",
     "output_type": "stream",
     "text": [
      "Epoch: 4, Accuracy: 75.0, Test Loss: 6.262614135742187\n",
      "Federated Training Epoch 4 of 51\n",
      "Epoch: 4, Processing Client bladecluster.iitp.org: client-3, Received 1 Updates From ['bladecluster.iitp.org: client-1']\n",
      "Producing user records to topic VJH_020_2. ^C to exit.\n",
      "Flushing records...\n",
      "User record b'bladecluster.iitp.org: client-3' successfully produced to VJH_020_2 [0] at offset 632\n"
     ]
    },
    {
     "name": "stderr",
     "output_type": "stream",
     "text": [
      "\r",
      " 10%|▉         | 5/51 [02:21<21:44, 28.37s/it]"
     ]
    },
    {
     "name": "stdout",
     "output_type": "stream",
     "text": [
      "Epoch: 5, Accuracy: 78.0, Test Loss: 6.14161979675293\n",
      "Federated Training Epoch 5 of 51\n",
      "Epoch: 5, Processing Client bladecluster.iitp.org: client-3, Received 0 Updates From []\n",
      "Producing user records to topic VJH_020_2. ^C to exit.\n",
      "Flushing records...\n",
      "User record b'bladecluster.iitp.org: client-3' successfully produced to VJH_020_2 [0] at offset 633\n"
     ]
    },
    {
     "name": "stderr",
     "output_type": "stream",
     "text": [
      "\r",
      " 12%|█▏        | 6/51 [02:50<21:17, 28.38s/it]"
     ]
    },
    {
     "name": "stdout",
     "output_type": "stream",
     "text": [
      "Epoch: 6, Accuracy: 74.0, Test Loss: 6.181414184570312\n",
      "Federated Training Epoch 6 of 51\n",
      "Epoch: 6, Processing Client bladecluster.iitp.org: client-3, Received 0 Updates From []\n",
      "Producing user records to topic VJH_020_2. ^C to exit.\n",
      "Flushing records...\n",
      "User record b'bladecluster.iitp.org: client-3' successfully produced to VJH_020_2 [0] at offset 634\n"
     ]
    },
    {
     "name": "stderr",
     "output_type": "stream",
     "text": [
      "\r",
      " 14%|█▎        | 7/51 [03:18<20:43, 28.27s/it]"
     ]
    },
    {
     "name": "stdout",
     "output_type": "stream",
     "text": [
      "Epoch: 7, Accuracy: 74.0, Test Loss: 6.524256744384766\n",
      "Federated Training Epoch 7 of 51\n",
      "Epoch: 7, Processing Client bladecluster.iitp.org: client-3, Received 0 Updates From []\n",
      "Producing user records to topic VJH_020_2. ^C to exit.\n",
      "Flushing records...\n",
      "User record b'bladecluster.iitp.org: client-3' successfully produced to VJH_020_2 [0] at offset 635\n"
     ]
    },
    {
     "name": "stderr",
     "output_type": "stream",
     "text": [
      "\r",
      " 16%|█▌        | 8/51 [03:46<20:18, 28.33s/it]"
     ]
    },
    {
     "name": "stdout",
     "output_type": "stream",
     "text": [
      "Epoch: 8, Accuracy: 74.0, Test Loss: 6.045161743164062\n",
      "Federated Training Epoch 8 of 51\n",
      "Epoch: 8, Processing Client bladecluster.iitp.org: client-3, Received 0 Updates From []\n",
      "Producing user records to topic VJH_020_2. ^C to exit.\n",
      "Flushing records...\n",
      "User record b'bladecluster.iitp.org: client-3' successfully produced to VJH_020_2 [0] at offset 636\n"
     ]
    },
    {
     "name": "stderr",
     "output_type": "stream",
     "text": [
      "\r",
      " 18%|█▊        | 9/51 [04:14<19:44, 28.20s/it]"
     ]
    },
    {
     "name": "stdout",
     "output_type": "stream",
     "text": [
      "Epoch: 9, Accuracy: 76.0, Test Loss: 6.243305053710937\n",
      "Federated Training Epoch 9 of 51\n",
      "Epoch: 9, Processing Client bladecluster.iitp.org: client-3, Received 0 Updates From []\n",
      "Producing user records to topic VJH_020_2. ^C to exit.\n",
      "Flushing records...\n",
      "User record b'bladecluster.iitp.org: client-3' successfully produced to VJH_020_2 [0] at offset 637\n"
     ]
    },
    {
     "name": "stderr",
     "output_type": "stream",
     "text": [
      "\r",
      " 20%|█▉        | 10/51 [04:43<19:20, 28.31s/it]"
     ]
    },
    {
     "name": "stdout",
     "output_type": "stream",
     "text": [
      "Epoch: 10, Accuracy: 73.0, Test Loss: 6.175875854492188\n",
      "Federated Training Epoch 10 of 51\n",
      "Epoch: 10, Processing Client bladecluster.iitp.org: client-3, Received 0 Updates From []\n",
      "Producing user records to topic VJH_020_2. ^C to exit.\n",
      "Flushing records...\n",
      "User record b'bladecluster.iitp.org: client-3' successfully produced to VJH_020_2 [0] at offset 638\n"
     ]
    },
    {
     "name": "stderr",
     "output_type": "stream",
     "text": [
      "\r",
      " 22%|██▏       | 11/51 [05:11<18:52, 28.31s/it]"
     ]
    },
    {
     "name": "stdout",
     "output_type": "stream",
     "text": [
      "Epoch: 11, Accuracy: 72.0, Test Loss: 6.827807312011719\n",
      "Federated Training Epoch 11 of 51\n",
      "Epoch: 11, Processing Client bladecluster.iitp.org: client-3, Received 0 Updates From []\n",
      "Producing user records to topic VJH_020_2. ^C to exit.\n",
      "Flushing records...\n",
      "User record b'bladecluster.iitp.org: client-3' successfully produced to VJH_020_2 [0] at offset 639\n"
     ]
    },
    {
     "name": "stderr",
     "output_type": "stream",
     "text": [
      "\r",
      " 24%|██▎       | 12/51 [05:40<18:35, 28.59s/it]"
     ]
    },
    {
     "name": "stdout",
     "output_type": "stream",
     "text": [
      "Epoch: 12, Accuracy: 74.0, Test Loss: 7.039362182617188\n",
      "Federated Training Epoch 12 of 51\n",
      "Epoch: 12, Processing Client bladecluster.iitp.org: client-3, Received 0 Updates From []\n",
      "Producing user records to topic VJH_020_2. ^C to exit.\n",
      "Flushing records...\n",
      "User record b'bladecluster.iitp.org: client-3' successfully produced to VJH_020_2 [0] at offset 640\n"
     ]
    },
    {
     "name": "stderr",
     "output_type": "stream",
     "text": [
      "\r",
      " 25%|██▌       | 13/51 [06:09<18:05, 28.56s/it]"
     ]
    },
    {
     "name": "stdout",
     "output_type": "stream",
     "text": [
      "Epoch: 13, Accuracy: 69.0, Test Loss: 7.233587951660156\n",
      "Federated Training Epoch 13 of 51\n",
      "Epoch: 13, Processing Client bladecluster.iitp.org: client-3, Received 0 Updates From []\n",
      "Producing user records to topic VJH_020_2. ^C to exit.\n",
      "Flushing records...\n",
      "User record b'bladecluster.iitp.org: client-3' successfully produced to VJH_020_2 [0] at offset 641\n"
     ]
    },
    {
     "name": "stderr",
     "output_type": "stream",
     "text": [
      "\r",
      " 27%|██▋       | 14/51 [06:37<17:36, 28.55s/it]"
     ]
    },
    {
     "name": "stdout",
     "output_type": "stream",
     "text": [
      "Epoch: 14, Accuracy: 76.0, Test Loss: 6.21006103515625\n",
      "Federated Training Epoch 14 of 51\n",
      "Epoch: 14, Processing Client bladecluster.iitp.org: client-3, Received 0 Updates From []\n",
      "Producing user records to topic VJH_020_2. ^C to exit.\n",
      "Flushing records...\n",
      "User record b'bladecluster.iitp.org: client-3' successfully produced to VJH_020_2 [0] at offset 642\n"
     ]
    },
    {
     "name": "stderr",
     "output_type": "stream",
     "text": [
      "\r",
      " 29%|██▉       | 15/51 [07:06<17:06, 28.52s/it]"
     ]
    },
    {
     "name": "stdout",
     "output_type": "stream",
     "text": [
      "Epoch: 15, Accuracy: 75.0, Test Loss: 5.875432434082032\n",
      "Federated Training Epoch 15 of 51\n",
      "Epoch: 15, Processing Client bladecluster.iitp.org: client-3, Received 0 Updates From []\n",
      "Producing user records to topic VJH_020_2. ^C to exit.\n",
      "Flushing records...\n",
      "User record b'bladecluster.iitp.org: client-3' successfully produced to VJH_020_2 [0] at offset 643\n"
     ]
    },
    {
     "name": "stderr",
     "output_type": "stream",
     "text": [
      "\r",
      " 31%|███▏      | 16/51 [07:34<16:37, 28.50s/it]"
     ]
    },
    {
     "name": "stdout",
     "output_type": "stream",
     "text": [
      "Epoch: 16, Accuracy: 75.0, Test Loss: 6.51228515625\n",
      "Federated Training Epoch 16 of 51\n",
      "Epoch: 16, Processing Client bladecluster.iitp.org: client-3, Received 0 Updates From []\n",
      "Producing user records to topic VJH_020_2. ^C to exit.\n",
      "Flushing records...\n",
      "User record b'bladecluster.iitp.org: client-3' successfully produced to VJH_020_2 [0] at offset 644\n"
     ]
    },
    {
     "name": "stderr",
     "output_type": "stream",
     "text": [
      "\r",
      " 33%|███▎      | 17/51 [08:04<16:20, 28.83s/it]"
     ]
    },
    {
     "name": "stdout",
     "output_type": "stream",
     "text": [
      "Epoch: 17, Accuracy: 76.0, Test Loss: 6.330968322753907\n",
      "Federated Training Epoch 17 of 51\n",
      "Epoch: 17, Processing Client bladecluster.iitp.org: client-3, Received 0 Updates From []\n",
      "Producing user records to topic VJH_020_2. ^C to exit.\n",
      "Flushing records...\n",
      "User record b'bladecluster.iitp.org: client-3' successfully produced to VJH_020_2 [0] at offset 645\n"
     ]
    },
    {
     "name": "stderr",
     "output_type": "stream",
     "text": [
      "\r",
      " 35%|███▌      | 18/51 [08:33<15:50, 28.80s/it]"
     ]
    },
    {
     "name": "stdout",
     "output_type": "stream",
     "text": [
      "Epoch: 18, Accuracy: 75.0, Test Loss: 6.410491027832031\n",
      "Federated Training Epoch 18 of 51\n",
      "Epoch: 18, Processing Client bladecluster.iitp.org: client-3, Received 0 Updates From []\n",
      "Producing user records to topic VJH_020_2. ^C to exit.\n",
      "Flushing records...\n",
      "User record b'bladecluster.iitp.org: client-3' successfully produced to VJH_020_2 [0] at offset 646\n"
     ]
    },
    {
     "name": "stderr",
     "output_type": "stream",
     "text": [
      "\r",
      " 37%|███▋      | 19/51 [09:02<15:31, 29.11s/it]"
     ]
    },
    {
     "name": "stdout",
     "output_type": "stream",
     "text": [
      "Epoch: 19, Accuracy: 77.0, Test Loss: 5.604663848876953\n",
      "Federated Training Epoch 19 of 51\n",
      "Epoch: 19, Processing Client bladecluster.iitp.org: client-3, Received 0 Updates From []\n",
      "Producing user records to topic VJH_020_2. ^C to exit.\n",
      "Flushing records...\n",
      "User record b'bladecluster.iitp.org: client-3' successfully produced to VJH_020_2 [0] at offset 647\n"
     ]
    },
    {
     "name": "stderr",
     "output_type": "stream",
     "text": [
      "\r",
      " 39%|███▉      | 20/51 [09:31<14:57, 28.95s/it]"
     ]
    },
    {
     "name": "stdout",
     "output_type": "stream",
     "text": [
      "Epoch: 20, Accuracy: 77.0, Test Loss: 5.956307525634766\n",
      "Federated Training Epoch 20 of 51\n",
      "Epoch: 20, Processing Client bladecluster.iitp.org: client-3, Received 0 Updates From []\n",
      "Producing user records to topic VJH_020_2. ^C to exit.\n",
      "Flushing records...\n",
      "User record b'bladecluster.iitp.org: client-3' successfully produced to VJH_020_2 [0] at offset 648\n"
     ]
    },
    {
     "name": "stderr",
     "output_type": "stream",
     "text": [
      "\r",
      " 41%|████      | 21/51 [10:01<14:36, 29.21s/it]"
     ]
    },
    {
     "name": "stdout",
     "output_type": "stream",
     "text": [
      "Epoch: 21, Accuracy: 72.0, Test Loss: 6.811409606933593\n",
      "Federated Training Epoch 21 of 51\n",
      "Epoch: 21, Processing Client bladecluster.iitp.org: client-3, Received 0 Updates From []\n",
      "Producing user records to topic VJH_020_2. ^C to exit.\n",
      "Flushing records...\n",
      "User record b'bladecluster.iitp.org: client-3' successfully produced to VJH_020_2 [0] at offset 649\n"
     ]
    },
    {
     "name": "stderr",
     "output_type": "stream",
     "text": [
      "\r",
      " 43%|████▎     | 22/51 [10:30<14:04, 29.11s/it]"
     ]
    },
    {
     "name": "stdout",
     "output_type": "stream",
     "text": [
      "Epoch: 22, Accuracy: 73.0, Test Loss: 5.911450805664063\n",
      "Federated Training Epoch 22 of 51\n",
      "Epoch: 22, Processing Client bladecluster.iitp.org: client-3, Received 0 Updates From []\n",
      "Producing user records to topic VJH_020_2. ^C to exit.\n",
      "Flushing records...\n",
      "User record b'bladecluster.iitp.org: client-3' successfully produced to VJH_020_2 [0] at offset 650\n"
     ]
    },
    {
     "name": "stderr",
     "output_type": "stream",
     "text": [
      "\r",
      " 45%|████▌     | 23/51 [10:59<13:39, 29.26s/it]"
     ]
    },
    {
     "name": "stdout",
     "output_type": "stream",
     "text": [
      "Epoch: 23, Accuracy: 72.0, Test Loss: 6.885278625488281\n",
      "Federated Training Epoch 23 of 51\n",
      "Epoch: 23, Processing Client bladecluster.iitp.org: client-3, Received 0 Updates From []\n",
      "Producing user records to topic VJH_020_2. ^C to exit.\n",
      "Flushing records...\n",
      "User record b'bladecluster.iitp.org: client-3' successfully produced to VJH_020_2 [0] at offset 651\n"
     ]
    },
    {
     "name": "stderr",
     "output_type": "stream",
     "text": [
      "\r",
      " 47%|████▋     | 24/51 [11:28<13:07, 29.18s/it]"
     ]
    },
    {
     "name": "stdout",
     "output_type": "stream",
     "text": [
      "Epoch: 24, Accuracy: 76.0, Test Loss: 7.070299987792969\n",
      "Federated Training Epoch 24 of 51\n",
      "Epoch: 24, Processing Client bladecluster.iitp.org: client-3, Received 0 Updates From []\n",
      "Producing user records to topic VJH_020_2. ^C to exit.\n",
      "Flushing records...\n",
      "User record b'bladecluster.iitp.org: client-3' successfully produced to VJH_020_2 [0] at offset 652\n"
     ]
    },
    {
     "name": "stderr",
     "output_type": "stream",
     "text": [
      "\r",
      " 49%|████▉     | 25/51 [11:57<12:37, 29.14s/it]"
     ]
    },
    {
     "name": "stdout",
     "output_type": "stream",
     "text": [
      "Epoch: 25, Accuracy: 76.0, Test Loss: 5.560963287353515\n",
      "Federated Training Epoch 25 of 51\n",
      "Epoch: 25, Processing Client bladecluster.iitp.org: client-3, Received 0 Updates From []\n",
      "Producing user records to topic VJH_020_2. ^C to exit.\n",
      "Flushing records...\n",
      "User record b'bladecluster.iitp.org: client-3' successfully produced to VJH_020_2 [0] at offset 653\n"
     ]
    },
    {
     "name": "stderr",
     "output_type": "stream",
     "text": [
      "\r",
      " 51%|█████     | 26/51 [12:27<12:08, 29.15s/it]"
     ]
    },
    {
     "name": "stdout",
     "output_type": "stream",
     "text": [
      "Epoch: 26, Accuracy: 75.0, Test Loss: 7.201671905517578\n",
      "Federated Training Epoch 26 of 51\n",
      "Epoch: 26, Processing Client bladecluster.iitp.org: client-3, Received 0 Updates From []\n",
      "Producing user records to topic VJH_020_2. ^C to exit.\n",
      "Flushing records...\n",
      "User record b'bladecluster.iitp.org: client-3' successfully produced to VJH_020_2 [0] at offset 654\n"
     ]
    },
    {
     "name": "stderr",
     "output_type": "stream",
     "text": [
      "\r",
      " 53%|█████▎    | 27/51 [12:55<11:36, 29.02s/it]"
     ]
    },
    {
     "name": "stdout",
     "output_type": "stream",
     "text": [
      "Epoch: 27, Accuracy: 71.0, Test Loss: 7.50760009765625\n",
      "Federated Training Epoch 27 of 51\n",
      "Epoch: 27, Processing Client bladecluster.iitp.org: client-3, Received 0 Updates From []\n",
      "Producing user records to topic VJH_020_2. ^C to exit.\n",
      "Flushing records...\n",
      "User record b'bladecluster.iitp.org: client-3' successfully produced to VJH_020_2 [0] at offset 655\n"
     ]
    },
    {
     "name": "stderr",
     "output_type": "stream",
     "text": [
      "\r",
      " 55%|█████▍    | 28/51 [13:25<11:09, 29.13s/it]"
     ]
    },
    {
     "name": "stdout",
     "output_type": "stream",
     "text": [
      "Epoch: 28, Accuracy: 72.0, Test Loss: 6.749406585693359\n",
      "Federated Training Epoch 28 of 51\n",
      "Epoch: 28, Processing Client bladecluster.iitp.org: client-3, Received 0 Updates From []\n",
      "Producing user records to topic VJH_020_2. ^C to exit.\n",
      "Flushing records...\n",
      "User record b'bladecluster.iitp.org: client-3' successfully produced to VJH_020_2 [0] at offset 656\n"
     ]
    },
    {
     "name": "stderr",
     "output_type": "stream",
     "text": [
      "\r",
      " 57%|█████▋    | 29/51 [13:53<10:35, 28.87s/it]"
     ]
    },
    {
     "name": "stdout",
     "output_type": "stream",
     "text": [
      "Epoch: 29, Accuracy: 72.0, Test Loss: 5.997655029296875\n",
      "Federated Training Epoch 29 of 51\n",
      "Epoch: 29, Processing Client bladecluster.iitp.org: client-3, Received 0 Updates From []\n",
      "Producing user records to topic VJH_020_2. ^C to exit.\n",
      "Flushing records...\n",
      "User record b'bladecluster.iitp.org: client-3' successfully produced to VJH_020_2 [0] at offset 657\n"
     ]
    },
    {
     "name": "stderr",
     "output_type": "stream",
     "text": [
      "\r",
      " 59%|█████▉    | 30/51 [14:21<10:03, 28.73s/it]"
     ]
    },
    {
     "name": "stdout",
     "output_type": "stream",
     "text": [
      "Epoch: 30, Accuracy: 73.0, Test Loss: 6.586478576660157\n",
      "Federated Training Epoch 30 of 51\n",
      "Epoch: 30, Processing Client bladecluster.iitp.org: client-3, Received 0 Updates From []\n",
      "Producing user records to topic VJH_020_2. ^C to exit.\n",
      "Flushing records...\n",
      "User record b'bladecluster.iitp.org: client-3' successfully produced to VJH_020_2 [0] at offset 658\n"
     ]
    },
    {
     "name": "stderr",
     "output_type": "stream",
     "text": [
      "\r",
      " 61%|██████    | 31/51 [14:51<09:39, 28.96s/it]"
     ]
    },
    {
     "name": "stdout",
     "output_type": "stream",
     "text": [
      "Epoch: 31, Accuracy: 71.0, Test Loss: 7.610927429199219\n",
      "Federated Training Epoch 31 of 51\n",
      "Epoch: 31, Processing Client bladecluster.iitp.org: client-3, Received 0 Updates From []\n",
      "Producing user records to topic VJH_020_2. ^C to exit.\n",
      "Flushing records...\n",
      "User record b'bladecluster.iitp.org: client-3' successfully produced to VJH_020_2 [0] at offset 659\n"
     ]
    },
    {
     "name": "stderr",
     "output_type": "stream",
     "text": [
      "\r",
      " 63%|██████▎   | 32/51 [15:20<09:11, 29.00s/it]"
     ]
    },
    {
     "name": "stdout",
     "output_type": "stream",
     "text": [
      "Epoch: 32, Accuracy: 76.0, Test Loss: 5.594310302734375\n",
      "Federated Training Epoch 32 of 51\n",
      "Epoch: 32, Processing Client bladecluster.iitp.org: client-3, Received 0 Updates From []\n",
      "Producing user records to topic VJH_020_2. ^C to exit.\n",
      "Flushing records...\n",
      "User record b'bladecluster.iitp.org: client-3' successfully produced to VJH_020_2 [0] at offset 660\n"
     ]
    },
    {
     "name": "stderr",
     "output_type": "stream",
     "text": [
      "\r",
      " 65%|██████▍   | 33/51 [15:49<08:42, 29.05s/it]"
     ]
    },
    {
     "name": "stdout",
     "output_type": "stream",
     "text": [
      "Epoch: 33, Accuracy: 83.0, Test Loss: 4.783994750976563\n",
      "Federated Training Epoch 33 of 51\n",
      "Epoch: 33, Processing Client bladecluster.iitp.org: client-3, Received 0 Updates From []\n",
      "Producing user records to topic VJH_020_2. ^C to exit.\n",
      "Flushing records...\n",
      "User record b'bladecluster.iitp.org: client-3' successfully produced to VJH_020_2 [0] at offset 661\n"
     ]
    },
    {
     "name": "stderr",
     "output_type": "stream",
     "text": [
      "\r",
      " 67%|██████▋   | 34/51 [16:18<08:14, 29.08s/it]"
     ]
    },
    {
     "name": "stdout",
     "output_type": "stream",
     "text": [
      "Epoch: 34, Accuracy: 79.0, Test Loss: 5.233307647705078\n",
      "Federated Training Epoch 34 of 51\n",
      "Epoch: 34, Processing Client bladecluster.iitp.org: client-3, Received 0 Updates From []\n",
      "Producing user records to topic VJH_020_2. ^C to exit.\n",
      "Flushing records...\n",
      "User record b'bladecluster.iitp.org: client-3' successfully produced to VJH_020_2 [0] at offset 662\n"
     ]
    },
    {
     "name": "stderr",
     "output_type": "stream",
     "text": [
      "\r",
      " 69%|██████▊   | 35/51 [16:47<07:44, 29.05s/it]"
     ]
    },
    {
     "name": "stdout",
     "output_type": "stream",
     "text": [
      "Epoch: 35, Accuracy: 78.0, Test Loss: 5.296340637207031\n",
      "Federated Training Epoch 35 of 51\n",
      "Epoch: 35, Processing Client bladecluster.iitp.org: client-3, Received 0 Updates From []\n",
      "Producing user records to topic VJH_020_2. ^C to exit.\n",
      "Flushing records...\n",
      "User record b'bladecluster.iitp.org: client-3' successfully produced to VJH_020_2 [0] at offset 663\n"
     ]
    },
    {
     "name": "stderr",
     "output_type": "stream",
     "text": [
      "\r",
      " 71%|███████   | 36/51 [17:17<07:17, 29.19s/it]"
     ]
    },
    {
     "name": "stdout",
     "output_type": "stream",
     "text": [
      "Epoch: 36, Accuracy: 83.0, Test Loss: 4.76865707397461\n",
      "Federated Training Epoch 36 of 51\n",
      "Epoch: 36, Processing Client bladecluster.iitp.org: client-3, Received 0 Updates From []\n",
      "Producing user records to topic VJH_020_2. ^C to exit.\n",
      "Flushing records...\n",
      "User record b'bladecluster.iitp.org: client-3' successfully produced to VJH_020_2 [0] at offset 664\n"
     ]
    },
    {
     "name": "stderr",
     "output_type": "stream",
     "text": [
      "\r",
      " 73%|███████▎  | 37/51 [17:46<06:47, 29.12s/it]"
     ]
    },
    {
     "name": "stdout",
     "output_type": "stream",
     "text": [
      "Epoch: 37, Accuracy: 78.0, Test Loss: 4.823329772949219\n",
      "Federated Training Epoch 37 of 51\n",
      "Epoch: 37, Processing Client bladecluster.iitp.org: client-3, Received 0 Updates From []\n",
      "Producing user records to topic VJH_020_2. ^C to exit.\n",
      "Flushing records...\n",
      "User record b'bladecluster.iitp.org: client-3' successfully produced to VJH_020_2 [0] at offset 665\n"
     ]
    },
    {
     "name": "stderr",
     "output_type": "stream",
     "text": [
      "\r",
      " 75%|███████▍  | 38/51 [18:15<06:20, 29.28s/it]"
     ]
    },
    {
     "name": "stdout",
     "output_type": "stream",
     "text": [
      "Epoch: 38, Accuracy: 78.0, Test Loss: 5.140545196533203\n",
      "Federated Training Epoch 38 of 51\n",
      "Epoch: 38, Processing Client bladecluster.iitp.org: client-3, Received 0 Updates From []\n",
      "Producing user records to topic VJH_020_2. ^C to exit.\n",
      "Flushing records...\n",
      "User record b'bladecluster.iitp.org: client-3' successfully produced to VJH_020_2 [0] at offset 666\n"
     ]
    },
    {
     "name": "stderr",
     "output_type": "stream",
     "text": [
      "\r",
      " 76%|███████▋  | 39/51 [18:45<05:53, 29.42s/it]"
     ]
    },
    {
     "name": "stdout",
     "output_type": "stream",
     "text": [
      "Epoch: 39, Accuracy: 77.0, Test Loss: 7.309260101318359\n",
      "Federated Training Epoch 39 of 51\n",
      "Epoch: 39, Processing Client bladecluster.iitp.org: client-3, Received 0 Updates From []\n",
      "Producing user records to topic VJH_020_2. ^C to exit.\n",
      "Flushing records...\n",
      "User record b'bladecluster.iitp.org: client-3' successfully produced to VJH_020_2 [0] at offset 667\n"
     ]
    },
    {
     "name": "stderr",
     "output_type": "stream",
     "text": [
      "\r",
      " 78%|███████▊  | 40/51 [19:15<05:23, 29.44s/it]"
     ]
    },
    {
     "name": "stdout",
     "output_type": "stream",
     "text": [
      "Epoch: 40, Accuracy: 76.0, Test Loss: 6.8403494262695315\n",
      "Federated Training Epoch 40 of 51\n",
      "Epoch: 40, Processing Client bladecluster.iitp.org: client-3, Received 0 Updates From []\n",
      "Producing user records to topic VJH_020_2. ^C to exit.\n",
      "Flushing records...\n",
      "User record b'bladecluster.iitp.org: client-3' successfully produced to VJH_020_2 [0] at offset 668\n"
     ]
    },
    {
     "name": "stderr",
     "output_type": "stream",
     "text": [
      "\r",
      " 80%|████████  | 41/51 [19:44<04:53, 29.36s/it]"
     ]
    },
    {
     "name": "stdout",
     "output_type": "stream",
     "text": [
      "Epoch: 41, Accuracy: 78.0, Test Loss: 6.770046997070312\n",
      "Federated Training Epoch 41 of 51\n",
      "Epoch: 41, Processing Client bladecluster.iitp.org: client-3, Received 0 Updates From []\n",
      "Producing user records to topic VJH_020_2. ^C to exit.\n",
      "Flushing records...\n",
      "User record b'bladecluster.iitp.org: client-3' successfully produced to VJH_020_2 [0] at offset 669\n"
     ]
    },
    {
     "name": "stderr",
     "output_type": "stream",
     "text": [
      "\r",
      " 82%|████████▏ | 42/51 [20:13<04:24, 29.33s/it]"
     ]
    },
    {
     "name": "stdout",
     "output_type": "stream",
     "text": [
      "Epoch: 42, Accuracy: 77.0, Test Loss: 7.109898681640625\n",
      "Federated Training Epoch 42 of 51\n",
      "Epoch: 42, Processing Client bladecluster.iitp.org: client-3, Received 0 Updates From []\n",
      "Producing user records to topic VJH_020_2. ^C to exit.\n",
      "Flushing records...\n",
      "User record b'bladecluster.iitp.org: client-3' successfully produced to VJH_020_2 [0] at offset 670\n"
     ]
    },
    {
     "name": "stderr",
     "output_type": "stream",
     "text": [
      "\r",
      " 84%|████████▍ | 43/51 [20:42<03:54, 29.30s/it]"
     ]
    },
    {
     "name": "stdout",
     "output_type": "stream",
     "text": [
      "Epoch: 43, Accuracy: 80.0, Test Loss: 6.326122436523438\n",
      "Federated Training Epoch 43 of 51\n",
      "Epoch: 43, Processing Client bladecluster.iitp.org: client-3, Received 0 Updates From []\n",
      "Producing user records to topic VJH_020_2. ^C to exit.\n",
      "Flushing records...\n",
      "User record b'bladecluster.iitp.org: client-3' successfully produced to VJH_020_2 [0] at offset 671\n"
     ]
    },
    {
     "name": "stderr",
     "output_type": "stream",
     "text": [
      "\r",
      " 86%|████████▋ | 44/51 [21:11<03:24, 29.23s/it]"
     ]
    },
    {
     "name": "stdout",
     "output_type": "stream",
     "text": [
      "Epoch: 44, Accuracy: 80.0, Test Loss: 6.154832458496093\n",
      "Federated Training Epoch 44 of 51\n",
      "Epoch: 44, Processing Client bladecluster.iitp.org: client-3, Received 0 Updates From []\n",
      "Producing user records to topic VJH_020_2. ^C to exit.\n",
      "Flushing records...\n",
      "User record b'bladecluster.iitp.org: client-3' successfully produced to VJH_020_2 [0] at offset 672\n"
     ]
    },
    {
     "name": "stderr",
     "output_type": "stream",
     "text": [
      "\r",
      " 88%|████████▊ | 45/51 [21:40<02:55, 29.20s/it]"
     ]
    },
    {
     "name": "stdout",
     "output_type": "stream",
     "text": [
      "Epoch: 45, Accuracy: 75.0, Test Loss: 6.445055694580078\n",
      "Federated Training Epoch 45 of 51\n",
      "Epoch: 45, Processing Client bladecluster.iitp.org: client-3, Received 0 Updates From []\n",
      "Producing user records to topic VJH_020_2. ^C to exit.\n",
      "Flushing records...\n",
      "User record b'bladecluster.iitp.org: client-3' successfully produced to VJH_020_2 [0] at offset 673\n"
     ]
    },
    {
     "name": "stderr",
     "output_type": "stream",
     "text": [
      "\r",
      " 90%|█████████ | 46/51 [22:10<02:26, 29.22s/it]"
     ]
    },
    {
     "name": "stdout",
     "output_type": "stream",
     "text": [
      "Epoch: 46, Accuracy: 75.0, Test Loss: 6.527818450927734\n",
      "Federated Training Epoch 46 of 51\n",
      "Epoch: 46, Processing Client bladecluster.iitp.org: client-3, Received 0 Updates From []\n",
      "Producing user records to topic VJH_020_2. ^C to exit.\n",
      "Flushing records...\n",
      "User record b'bladecluster.iitp.org: client-3' successfully produced to VJH_020_2 [0] at offset 674\n"
     ]
    },
    {
     "name": "stderr",
     "output_type": "stream",
     "text": [
      "\r",
      " 92%|█████████▏| 47/51 [22:40<01:57, 29.50s/it]"
     ]
    },
    {
     "name": "stdout",
     "output_type": "stream",
     "text": [
      "Epoch: 47, Accuracy: 77.0, Test Loss: 7.210697937011719\n",
      "Federated Training Epoch 47 of 51\n",
      "Epoch: 47, Processing Client bladecluster.iitp.org: client-3, Received 0 Updates From []\n",
      "Producing user records to topic VJH_020_2. ^C to exit.\n",
      "Flushing records...\n",
      "User record b'bladecluster.iitp.org: client-3' successfully produced to VJH_020_2 [0] at offset 675\n"
     ]
    },
    {
     "name": "stderr",
     "output_type": "stream",
     "text": [
      "\r",
      " 94%|█████████▍| 48/51 [23:09<01:28, 29.41s/it]"
     ]
    },
    {
     "name": "stdout",
     "output_type": "stream",
     "text": [
      "Epoch: 48, Accuracy: 77.0, Test Loss: 6.625588989257812\n",
      "Federated Training Epoch 48 of 51\n",
      "Epoch: 48, Processing Client bladecluster.iitp.org: client-3, Received 0 Updates From []\n",
      "Producing user records to topic VJH_020_2. ^C to exit.\n",
      "Flushing records...\n",
      "User record b'bladecluster.iitp.org: client-3' successfully produced to VJH_020_2 [0] at offset 676\n"
     ]
    },
    {
     "name": "stderr",
     "output_type": "stream",
     "text": [
      "\r",
      " 96%|█████████▌| 49/51 [23:39<00:58, 29.49s/it]"
     ]
    },
    {
     "name": "stdout",
     "output_type": "stream",
     "text": [
      "Epoch: 49, Accuracy: 75.0, Test Loss: 7.862661437988281\n",
      "Federated Training Epoch 49 of 51\n",
      "Epoch: 49, Processing Client bladecluster.iitp.org: client-3, Received 0 Updates From []\n",
      "Producing user records to topic VJH_020_2. ^C to exit.\n",
      "Flushing records...\n",
      "User record b'bladecluster.iitp.org: client-3' successfully produced to VJH_020_2 [0] at offset 677\n"
     ]
    },
    {
     "name": "stderr",
     "output_type": "stream",
     "text": [
      "\r",
      " 98%|█████████▊| 50/51 [24:09<00:29, 29.65s/it]"
     ]
    },
    {
     "name": "stdout",
     "output_type": "stream",
     "text": [
      "Epoch: 50, Accuracy: 75.0, Test Loss: 7.71602294921875\n",
      "Federated Training Epoch 50 of 51\n",
      "Epoch: 50, Processing Client bladecluster.iitp.org: client-3, Received 0 Updates From []\n",
      "Producing user records to topic VJH_020_2. ^C to exit.\n",
      "Flushing records...\n",
      "User record b'bladecluster.iitp.org: client-3' successfully produced to VJH_020_2 [0] at offset 678\n"
     ]
    },
    {
     "name": "stderr",
     "output_type": "stream",
     "text": [
      "100%|██████████| 51/51 [24:39<00:00, 29.01s/it]"
     ]
    },
    {
     "name": "stdout",
     "output_type": "stream",
     "text": [
      "Epoch: 51, Accuracy: 78.0, Test Loss: 7.240339965820312\n"
     ]
    },
    {
     "name": "stderr",
     "output_type": "stream",
     "text": [
      "\n"
     ]
    }
   ],
   "source": [
    "# Federated Training\n",
    "for epoch in tqdm(range(fedargs.epochs)):\n",
    "    print(\"Federated Training Epoch {} of {}\".format(epoch, fedargs.epochs))\n",
    "\n",
    "    client_details['model'] = process(client_details['name'], epoch, dt,\n",
    "                                              client_details['model'],\n",
    "                                              client_details['train_loader'],\n",
    "                                              client_details['test_loader'],\n",
    "                                              fedargs, device)"
   ]
  }
 ],
 "metadata": {
  "kernelspec": {
   "display_name": "Python [conda env:syft]",
   "language": "python",
   "name": "conda-env-syft-py"
  },
  "language_info": {
   "codemirror_mode": {
    "name": "ipython",
    "version": 3
   },
   "file_extension": ".py",
   "mimetype": "text/x-python",
   "name": "python",
   "nbconvert_exporter": "python",
   "pygments_lexer": "ipython3",
   "version": "3.9.5"
  }
 },
 "nbformat": 4,
 "nbformat_minor": 5
}
