{
 "cells": [
  {
   "cell_type": "code",
   "execution_count": 1,
   "id": "7f8df444",
   "metadata": {},
   "outputs": [],
   "source": [
    "%load_ext autoreload\n",
    "%autoreload 2\n",
    "\n",
    "import copy, os, socket, sys, time\n",
    "from pathlib import Path\n",
    "from tqdm import tqdm\n",
    "\n",
    "import torch\n",
    "from torch import optim\n",
    "\n",
    "sys.path.insert(0, os.path.abspath(os.path.join(os.getcwd(), \"../\")))\n",
    "from libs import data, fl, nn, wandb\n",
    "from libs.distributed import *"
   ]
  },
  {
   "cell_type": "code",
   "execution_count": 2,
   "id": "cd71aade",
   "metadata": {},
   "outputs": [],
   "source": [
    "class FedArgs():\n",
    "    def __init__(self):\n",
    "        self.name = \"client-3\"\n",
    "        self.num_clients = 50\n",
    "        self.epochs = 51\n",
    "        self.local_rounds = 1\n",
    "        self.client_batch_size = 32\n",
    "        self.test_batch_size = 64\n",
    "        self.learning_rate = 0.001\n",
    "        self.weight_decay = None\n",
    "        self.cuda = False\n",
    "        self.seed = 1\n",
    "        self.topic = \"VJH_020_2\"\n",
    "        self.broker_ip = '172.16.26.40:9092'\n",
    "        self.schema_ip = 'http://172.16.26.40:8081'\n",
    "        self.wait_to_consume = 10\n",
    "        self.dataset = \"lemon\"\n",
    "        self.model = nn.LemonNet()\n",
    "        self.train_func = fl.train_model\n",
    "        self.eval_func = fl.evaluate\n",
    "        \n",
    "fedargs = FedArgs()"
   ]
  },
  {
   "cell_type": "code",
   "execution_count": 3,
   "id": "e6f6d316",
   "metadata": {},
   "outputs": [
    {
     "name": "stderr",
     "output_type": "stream",
     "text": [
      "\u001b[34m\u001b[1mwandb\u001b[0m: Currently logged in as: \u001b[33mkasyah\u001b[0m (use `wandb login --relogin` to force relogin)\n",
      "\u001b[34m\u001b[1mwandb\u001b[0m: wandb version 0.12.6 is available!  To upgrade, please run:\n",
      "\u001b[34m\u001b[1mwandb\u001b[0m:  $ pip install wandb --upgrade\n"
     ]
    },
    {
     "data": {
      "text/html": [
       "\n",
       "                    Syncing run <strong><a href=\"https://wandb.ai/kasyah/fl-kafka-client/runs/7r3wb50t\" target=\"_blank\">VJH_020_1-client-3</a></strong> to <a href=\"https://wandb.ai/kasyah/fl-kafka-client\" target=\"_blank\">Weights & Biases</a> (<a href=\"https://docs.wandb.com/integrations/jupyter.html\" target=\"_blank\">docs</a>).<br/>\n",
       "\n",
       "                "
      ],
      "text/plain": [
       "<IPython.core.display.HTML object>"
      ]
     },
     "metadata": {},
     "output_type": "display_data"
    }
   ],
   "source": [
    "project = 'fl-kafka-client'\n",
    "name = 'VJH_020_1-' + fedargs.name\n",
    "wb = wandb.init(name, project)\n",
    "fedargs.num_clients = 1"
   ]
  },
  {
   "cell_type": "code",
   "execution_count": 4,
   "id": "badfa0d8",
   "metadata": {},
   "outputs": [],
   "source": [
    "use_cuda = fedargs.cuda and torch.cuda.is_available()\n",
    "torch.manual_seed(fedargs.seed)\n",
    "device = torch.device(\"cuda\" if use_cuda else \"cpu\")\n",
    "kwargs = {\"num_workers\": 1, \"pin_memory\": True} if use_cuda else {}"
   ]
  },
  {
   "cell_type": "code",
   "execution_count": 5,
   "id": "4cfa76c6",
   "metadata": {},
   "outputs": [],
   "source": [
    "host = socket.gethostname()\n",
    "clients = [host + \": \" + fedargs.name]\n",
    "dt = Distributed(clients, fedargs.broker_ip, fedargs.schema_ip, fedargs.wait_to_consume)"
   ]
  },
  {
   "cell_type": "code",
   "execution_count": 6,
   "id": "ad76a57c",
   "metadata": {},
   "outputs": [],
   "source": [
    "# Initialize Global and Client models\n",
    "global_model = copy.deepcopy(fedargs.model)\n",
    "# Load Data to clients\n",
    "train_loader, test_loader = data.load_dataset(fedargs.dataset, fedargs.client_batch_size, fedargs.test_batch_size)\n",
    "\n",
    "client_details = {\"name\": clients[0],\n",
    "                  \"train_loader\": train_loader,\n",
    "                  \"test_loader\": test_loader,\n",
    "                  \"model\": copy.deepcopy(global_model),\n",
    "                  \"model_update\": None}"
   ]
  },
  {
   "cell_type": "code",
   "execution_count": 7,
   "id": "a453be25",
   "metadata": {},
   "outputs": [],
   "source": [
    "def process(client, epoch, dt, model, train_loader, test_loader, fedargs, device):\n",
    "    # Consume Models\n",
    "    client_model_updates = dt.consume_model(client, fedargs.topic, model, epoch)\n",
    "    if client in client_model_updates:\n",
    "        client_model_updates.pop(client)\n",
    "    print(\"Epoch: {}, Processing Client {}, Received {} Updates From {}\".format(epoch, client, \n",
    "                                                                                len(client_model_updates), \n",
    "                                                                                list(client_model_updates.keys())))\n",
    "\n",
    "    #if len(client_model_updates) != 0:\n",
    "    #    model = fl.federated_avg(client_model_updates)\n",
    "    \n",
    "    # Train\n",
    "    model_update, model, loss = fedargs.train_func(model, train_loader, \n",
    "                                                   fedargs.learning_rate,\n",
    "                                                   fedargs.weight_decay,\n",
    "                                                   fedargs.local_rounds, device)\n",
    "    \n",
    "    # Publish Model\n",
    "    epoch = epoch + 1\n",
    "    dt.produce_model(client, fedargs.topic, model, epoch)\n",
    "\n",
    "    # Test, Plot and Log\n",
    "    test_output = fedargs.eval_func(model, test_loader, device)\n",
    "    print(\"Epoch: {}, Accuracy: {}, Test Loss: {}\".format(epoch, test_output[\"accuracy\"], test_output[\"test_loss\"]))\n",
    "    wb.log({client: {\"epoch\": epoch, \"time\": time.time(), \"acc\": test_output[\"accuracy\"], \"loss\": test_output[\"test_loss\"]}})\n",
    "\n",
    "    return model"
   ]
  },
  {
   "cell_type": "code",
   "execution_count": null,
   "id": "3ede4728",
   "metadata": {},
   "outputs": [
    {
     "name": "stderr",
     "output_type": "stream",
     "text": [
      "\r",
      "  0%|          | 0/51 [00:00<?, ?it/s]"
     ]
    },
    {
     "name": "stdout",
     "output_type": "stream",
     "text": [
      "Federated Training Epoch 0 of 51\n",
      "Epoch: 0, Processing Client bladecluster.iitp.org: client-3, Received 0 Updates From []\n",
      "Producing user records to topic VJH_020_2. ^C to exit.\n",
      "Flushing records...\n",
      "User record b'bladecluster.iitp.org: client-3' successfully produced to VJH_020_2 [0] at offset 713\n"
     ]
    },
    {
     "name": "stderr",
     "output_type": "stream",
     "text": [
      "\r",
      "  2%|▏         | 1/51 [00:29<24:49, 29.79s/it]"
     ]
    },
    {
     "name": "stdout",
     "output_type": "stream",
     "text": [
      "Epoch: 1, Accuracy: 16.0, Test Loss: 2.1622895050048827\n",
      "Federated Training Epoch 1 of 51\n",
      "Epoch: 1, Processing Client bladecluster.iitp.org: client-3, Received 1 Updates From ['bladecluster.iitp.org: client-2']\n",
      "Producing user records to topic VJH_020_2. ^C to exit.\n",
      "Flushing records...\n",
      "User record b'bladecluster.iitp.org: client-3' successfully produced to VJH_020_2 [0] at offset 716\n"
     ]
    },
    {
     "name": "stderr",
     "output_type": "stream",
     "text": [
      "\r",
      "  4%|▍         | 2/51 [00:56<22:43, 27.82s/it]"
     ]
    },
    {
     "name": "stdout",
     "output_type": "stream",
     "text": [
      "Epoch: 2, Accuracy: 28.999999999999996, Test Loss: 1.8889734649658203\n",
      "Federated Training Epoch 2 of 51\n",
      "Epoch: 2, Processing Client bladecluster.iitp.org: client-3, Received 2 Updates From ['bladecluster.iitp.org: client-1', 'bladecluster.iitp.org: client-2']\n",
      "Producing user records to topic VJH_020_2. ^C to exit.\n",
      "Flushing records...\n",
      "User record b'bladecluster.iitp.org: client-3' successfully produced to VJH_020_2 [0] at offset 718\n"
     ]
    },
    {
     "name": "stderr",
     "output_type": "stream",
     "text": [
      "\r",
      "  6%|▌         | 3/51 [01:22<21:49, 27.28s/it]"
     ]
    },
    {
     "name": "stdout",
     "output_type": "stream",
     "text": [
      "Epoch: 3, Accuracy: 33.0, Test Loss: 1.7275981140136718\n",
      "Federated Training Epoch 3 of 51\n",
      "Epoch: 3, Processing Client bladecluster.iitp.org: client-3, Received 1 Updates From ['bladecluster.iitp.org: client-2']\n",
      "Producing user records to topic VJH_020_2. ^C to exit.\n",
      "Flushing records...\n",
      "User record b'bladecluster.iitp.org: client-3' successfully produced to VJH_020_2 [0] at offset 720\n"
     ]
    },
    {
     "name": "stderr",
     "output_type": "stream",
     "text": [
      "\r",
      "  8%|▊         | 4/51 [01:49<21:10, 27.02s/it]"
     ]
    },
    {
     "name": "stdout",
     "output_type": "stream",
     "text": [
      "Epoch: 4, Accuracy: 40.0, Test Loss: 1.6178329467773438\n",
      "Federated Training Epoch 4 of 51\n",
      "Epoch: 4, Processing Client bladecluster.iitp.org: client-3, Received 1 Updates From ['bladecluster.iitp.org: client-2']\n",
      "Producing user records to topic VJH_020_2. ^C to exit.\n",
      "Flushing records...\n",
      "User record b'bladecluster.iitp.org: client-3' successfully produced to VJH_020_2 [0] at offset 722\n"
     ]
    },
    {
     "name": "stderr",
     "output_type": "stream",
     "text": [
      "\r",
      " 10%|▉         | 5/51 [02:16<20:35, 26.86s/it]"
     ]
    },
    {
     "name": "stdout",
     "output_type": "stream",
     "text": [
      "Epoch: 5, Accuracy: 42.0, Test Loss: 1.4728483581542968\n",
      "Federated Training Epoch 5 of 51\n",
      "Epoch: 5, Processing Client bladecluster.iitp.org: client-3, Received 1 Updates From ['bladecluster.iitp.org: client-2']\n",
      "Producing user records to topic VJH_020_2. ^C to exit.\n",
      "Flushing records...\n",
      "User record b'bladecluster.iitp.org: client-3' successfully produced to VJH_020_2 [0] at offset 724\n"
     ]
    },
    {
     "name": "stderr",
     "output_type": "stream",
     "text": [
      "\r",
      " 12%|█▏        | 6/51 [02:43<20:14, 26.99s/it]"
     ]
    },
    {
     "name": "stdout",
     "output_type": "stream",
     "text": [
      "Epoch: 6, Accuracy: 48.0, Test Loss: 1.406699447631836\n",
      "Federated Training Epoch 6 of 51\n",
      "Epoch: 6, Processing Client bladecluster.iitp.org: client-3, Received 1 Updates From ['bladecluster.iitp.org: client-2']\n",
      "Producing user records to topic VJH_020_2. ^C to exit.\n",
      "Flushing records...\n",
      "User record b'bladecluster.iitp.org: client-3' successfully produced to VJH_020_2 [0] at offset 726\n"
     ]
    },
    {
     "name": "stderr",
     "output_type": "stream",
     "text": [
      "\r",
      " 14%|█▎        | 7/51 [03:09<19:43, 26.89s/it]"
     ]
    },
    {
     "name": "stdout",
     "output_type": "stream",
     "text": [
      "Epoch: 7, Accuracy: 59.0, Test Loss: 1.1711652374267578\n",
      "Federated Training Epoch 7 of 51\n",
      "Epoch: 7, Processing Client bladecluster.iitp.org: client-3, Received 1 Updates From ['bladecluster.iitp.org: client-2']\n",
      "Producing user records to topic VJH_020_2. ^C to exit.\n",
      "Flushing records...\n",
      "User record b'bladecluster.iitp.org: client-3' successfully produced to VJH_020_2 [0] at offset 728\n"
     ]
    },
    {
     "name": "stderr",
     "output_type": "stream",
     "text": [
      "\r",
      " 16%|█▌        | 8/51 [03:36<19:05, 26.63s/it]"
     ]
    },
    {
     "name": "stdout",
     "output_type": "stream",
     "text": [
      "Epoch: 8, Accuracy: 64.0, Test Loss: 1.0538519287109376\n",
      "Federated Training Epoch 8 of 51\n",
      "Epoch: 8, Processing Client bladecluster.iitp.org: client-3, Received 1 Updates From ['bladecluster.iitp.org: client-2']\n",
      "Producing user records to topic VJH_020_2. ^C to exit.\n",
      "Flushing records...\n",
      "User record b'bladecluster.iitp.org: client-3' successfully produced to VJH_020_2 [0] at offset 730\n"
     ]
    },
    {
     "name": "stderr",
     "output_type": "stream",
     "text": [
      "\r",
      " 18%|█▊        | 9/51 [04:02<18:30, 26.44s/it]"
     ]
    },
    {
     "name": "stdout",
     "output_type": "stream",
     "text": [
      "Epoch: 9, Accuracy: 61.0, Test Loss: 0.9676573944091796\n",
      "Federated Training Epoch 9 of 51\n",
      "Epoch: 9, Processing Client bladecluster.iitp.org: client-3, Received 1 Updates From ['bladecluster.iitp.org: client-2']\n",
      "Producing user records to topic VJH_020_2. ^C to exit.\n",
      "Flushing records...\n",
      "User record b'bladecluster.iitp.org: client-3' successfully produced to VJH_020_2 [0] at offset 733\n"
     ]
    },
    {
     "name": "stderr",
     "output_type": "stream",
     "text": [
      "\r",
      " 20%|█▉        | 10/51 [04:28<18:07, 26.54s/it]"
     ]
    },
    {
     "name": "stdout",
     "output_type": "stream",
     "text": [
      "Epoch: 10, Accuracy: 67.0, Test Loss: 0.8057819747924805\n",
      "Federated Training Epoch 10 of 51\n",
      "Epoch: 10, Processing Client bladecluster.iitp.org: client-3, Received 2 Updates From ['bladecluster.iitp.org: client-2', 'bladecluster.iitp.org: client-1']\n",
      "Producing user records to topic VJH_020_2. ^C to exit.\n",
      "Flushing records...\n",
      "User record b'bladecluster.iitp.org: client-3' successfully produced to VJH_020_2 [0] at offset 735\n"
     ]
    },
    {
     "name": "stderr",
     "output_type": "stream",
     "text": [
      "\r",
      " 22%|██▏       | 11/51 [04:54<17:35, 26.38s/it]"
     ]
    },
    {
     "name": "stdout",
     "output_type": "stream",
     "text": [
      "Epoch: 11, Accuracy: 68.0, Test Loss: 0.9913937759399414\n",
      "Federated Training Epoch 11 of 51\n",
      "Epoch: 11, Processing Client bladecluster.iitp.org: client-3, Received 1 Updates From ['bladecluster.iitp.org: client-2']\n",
      "Producing user records to topic VJH_020_2. ^C to exit.\n",
      "Flushing records...\n",
      "User record b'bladecluster.iitp.org: client-3' successfully produced to VJH_020_2 [0] at offset 737\n"
     ]
    },
    {
     "name": "stderr",
     "output_type": "stream",
     "text": [
      "\r",
      " 24%|██▎       | 12/51 [05:21<17:08, 26.36s/it]"
     ]
    },
    {
     "name": "stdout",
     "output_type": "stream",
     "text": [
      "Epoch: 12, Accuracy: 69.0, Test Loss: 0.9990118789672852\n",
      "Federated Training Epoch 12 of 51\n",
      "Epoch: 12, Processing Client bladecluster.iitp.org: client-3, Received 1 Updates From ['bladecluster.iitp.org: client-2']\n",
      "Producing user records to topic VJH_020_2. ^C to exit.\n",
      "Flushing records...\n",
      "User record b'bladecluster.iitp.org: client-3' successfully produced to VJH_020_2 [0] at offset 739\n"
     ]
    },
    {
     "name": "stderr",
     "output_type": "stream",
     "text": [
      "\r",
      " 25%|██▌       | 13/51 [05:47<16:38, 26.27s/it]"
     ]
    },
    {
     "name": "stdout",
     "output_type": "stream",
     "text": [
      "Epoch: 13, Accuracy: 76.0, Test Loss: 0.8945615005493164\n",
      "Federated Training Epoch 13 of 51\n",
      "Epoch: 13, Processing Client bladecluster.iitp.org: client-3, Received 1 Updates From ['bladecluster.iitp.org: client-2']\n",
      "Producing user records to topic VJH_020_2. ^C to exit.\n",
      "Flushing records...\n",
      "User record b'bladecluster.iitp.org: client-3' successfully produced to VJH_020_2 [0] at offset 741\n"
     ]
    },
    {
     "name": "stderr",
     "output_type": "stream",
     "text": [
      "\r",
      " 27%|██▋       | 14/51 [06:13<16:08, 26.19s/it]"
     ]
    },
    {
     "name": "stdout",
     "output_type": "stream",
     "text": [
      "Epoch: 14, Accuracy: 76.0, Test Loss: 0.7868813323974609\n",
      "Federated Training Epoch 14 of 51\n",
      "Epoch: 14, Processing Client bladecluster.iitp.org: client-3, Received 1 Updates From ['bladecluster.iitp.org: client-2']\n",
      "Producing user records to topic VJH_020_2. ^C to exit.\n",
      "Flushing records...\n",
      "User record b'bladecluster.iitp.org: client-3' successfully produced to VJH_020_2 [0] at offset 743\n"
     ]
    },
    {
     "name": "stderr",
     "output_type": "stream",
     "text": [
      "\r",
      " 29%|██▉       | 15/51 [06:39<15:41, 26.16s/it]"
     ]
    },
    {
     "name": "stdout",
     "output_type": "stream",
     "text": [
      "Epoch: 15, Accuracy: 65.0, Test Loss: 1.1359915161132812\n",
      "Federated Training Epoch 15 of 51\n",
      "Epoch: 15, Processing Client bladecluster.iitp.org: client-3, Received 1 Updates From ['bladecluster.iitp.org: client-2']\n",
      "Producing user records to topic VJH_020_2. ^C to exit.\n",
      "Flushing records...\n",
      "User record b'bladecluster.iitp.org: client-3' successfully produced to VJH_020_2 [0] at offset 746\n"
     ]
    },
    {
     "name": "stderr",
     "output_type": "stream",
     "text": [
      "\r",
      " 31%|███▏      | 16/51 [07:06<15:25, 26.45s/it]"
     ]
    },
    {
     "name": "stdout",
     "output_type": "stream",
     "text": [
      "Epoch: 16, Accuracy: 73.0, Test Loss: 0.9086985206604004\n",
      "Federated Training Epoch 16 of 51\n",
      "Epoch: 16, Processing Client bladecluster.iitp.org: client-3, Received 2 Updates From ['bladecluster.iitp.org: client-1', 'bladecluster.iitp.org: client-2']\n",
      "Producing user records to topic VJH_020_2. ^C to exit.\n",
      "Flushing records...\n",
      "User record b'bladecluster.iitp.org: client-3' successfully produced to VJH_020_2 [0] at offset 748\n"
     ]
    },
    {
     "name": "stderr",
     "output_type": "stream",
     "text": [
      "\r",
      " 33%|███▎      | 17/51 [07:32<15:00, 26.47s/it]"
     ]
    },
    {
     "name": "stdout",
     "output_type": "stream",
     "text": [
      "Epoch: 17, Accuracy: 76.0, Test Loss: 0.7537543869018555\n",
      "Federated Training Epoch 17 of 51\n",
      "Epoch: 17, Processing Client bladecluster.iitp.org: client-3, Received 1 Updates From ['bladecluster.iitp.org: client-2']\n",
      "Producing user records to topic VJH_020_2. ^C to exit.\n",
      "Flushing records...\n",
      "User record b'bladecluster.iitp.org: client-3' successfully produced to VJH_020_2 [0] at offset 750\n"
     ]
    },
    {
     "name": "stderr",
     "output_type": "stream",
     "text": [
      "\r",
      " 35%|███▌      | 18/51 [07:59<14:29, 26.35s/it]"
     ]
    },
    {
     "name": "stdout",
     "output_type": "stream",
     "text": [
      "Epoch: 18, Accuracy: 72.0, Test Loss: 0.8916810989379883\n",
      "Federated Training Epoch 18 of 51\n",
      "Epoch: 18, Processing Client bladecluster.iitp.org: client-3, Received 1 Updates From ['bladecluster.iitp.org: client-2']\n",
      "Producing user records to topic VJH_020_2. ^C to exit.\n",
      "Flushing records...\n",
      "User record b'bladecluster.iitp.org: client-3' successfully produced to VJH_020_2 [0] at offset 752\n"
     ]
    },
    {
     "name": "stderr",
     "output_type": "stream",
     "text": [
      "\r",
      " 37%|███▋      | 19/51 [08:25<14:03, 26.35s/it]"
     ]
    },
    {
     "name": "stdout",
     "output_type": "stream",
     "text": [
      "Epoch: 19, Accuracy: 76.0, Test Loss: 1.0611635971069335\n",
      "Federated Training Epoch 19 of 51\n",
      "Epoch: 19, Processing Client bladecluster.iitp.org: client-3, Received 1 Updates From ['bladecluster.iitp.org: client-2']\n",
      "Producing user records to topic VJH_020_2. ^C to exit.\n",
      "Flushing records...\n",
      "User record b'bladecluster.iitp.org: client-3' successfully produced to VJH_020_2 [0] at offset 754\n"
     ]
    },
    {
     "name": "stderr",
     "output_type": "stream",
     "text": [
      "\r",
      " 39%|███▉      | 20/51 [08:52<13:39, 26.44s/it]"
     ]
    },
    {
     "name": "stdout",
     "output_type": "stream",
     "text": [
      "Epoch: 20, Accuracy: 76.0, Test Loss: 0.9707060241699219\n",
      "Federated Training Epoch 20 of 51\n",
      "Epoch: 20, Processing Client bladecluster.iitp.org: client-3, Received 1 Updates From ['bladecluster.iitp.org: client-2']\n",
      "Producing user records to topic VJH_020_2. ^C to exit.\n",
      "Flushing records...\n",
      "User record b'bladecluster.iitp.org: client-3' successfully produced to VJH_020_2 [0] at offset 756\n"
     ]
    },
    {
     "name": "stderr",
     "output_type": "stream",
     "text": [
      "\r",
      " 41%|████      | 21/51 [09:18<13:09, 26.32s/it]"
     ]
    },
    {
     "name": "stdout",
     "output_type": "stream",
     "text": [
      "Epoch: 21, Accuracy: 80.0, Test Loss: 0.8996070098876953\n",
      "Federated Training Epoch 21 of 51\n",
      "Epoch: 21, Processing Client bladecluster.iitp.org: client-3, Received 1 Updates From ['bladecluster.iitp.org: client-2']\n",
      "Producing user records to topic VJH_020_2. ^C to exit.\n",
      "Flushing records...\n",
      "User record b'bladecluster.iitp.org: client-3' successfully produced to VJH_020_2 [0] at offset 758\n"
     ]
    },
    {
     "name": "stderr",
     "output_type": "stream",
     "text": [
      "\r",
      " 43%|████▎     | 22/51 [09:44<12:47, 26.47s/it]"
     ]
    },
    {
     "name": "stdout",
     "output_type": "stream",
     "text": [
      "Epoch: 22, Accuracy: 75.0, Test Loss: 1.397613639831543\n",
      "Federated Training Epoch 22 of 51\n",
      "Epoch: 22, Processing Client bladecluster.iitp.org: client-3, Received 1 Updates From ['bladecluster.iitp.org: client-2']\n",
      "Producing user records to topic VJH_020_2. ^C to exit.\n",
      "Flushing records...\n",
      "User record b'bladecluster.iitp.org: client-3' successfully produced to VJH_020_2 [0] at offset 760\n"
     ]
    },
    {
     "name": "stderr",
     "output_type": "stream",
     "text": [
      "\r",
      " 45%|████▌     | 23/51 [10:11<12:19, 26.40s/it]"
     ]
    },
    {
     "name": "stdout",
     "output_type": "stream",
     "text": [
      "Epoch: 23, Accuracy: 69.0, Test Loss: 1.531849594116211\n",
      "Federated Training Epoch 23 of 51\n",
      "Epoch: 23, Processing Client bladecluster.iitp.org: client-3, Received 1 Updates From ['bladecluster.iitp.org: client-2']\n",
      "Producing user records to topic VJH_020_2. ^C to exit.\n",
      "Flushing records...\n",
      "User record b'bladecluster.iitp.org: client-3' successfully produced to VJH_020_2 [0] at offset 762\n"
     ]
    },
    {
     "name": "stderr",
     "output_type": "stream",
     "text": [
      "\r",
      " 47%|████▋     | 24/51 [10:38<11:56, 26.53s/it]"
     ]
    },
    {
     "name": "stdout",
     "output_type": "stream",
     "text": [
      "Epoch: 24, Accuracy: 73.0, Test Loss: 1.5381776428222655\n",
      "Federated Training Epoch 24 of 51\n",
      "Epoch: 24, Processing Client bladecluster.iitp.org: client-3, Received 1 Updates From ['bladecluster.iitp.org: client-2']\n",
      "Producing user records to topic VJH_020_2. ^C to exit.\n",
      "Flushing records...\n",
      "User record b'bladecluster.iitp.org: client-3' successfully produced to VJH_020_2 [0] at offset 764\n"
     ]
    },
    {
     "name": "stderr",
     "output_type": "stream",
     "text": [
      "\r",
      " 49%|████▉     | 25/51 [11:04<11:26, 26.42s/it]"
     ]
    },
    {
     "name": "stdout",
     "output_type": "stream",
     "text": [
      "Epoch: 25, Accuracy: 71.0, Test Loss: 1.6556836700439452\n",
      "Federated Training Epoch 25 of 51\n",
      "Epoch: 25, Processing Client bladecluster.iitp.org: client-3, Received 1 Updates From ['bladecluster.iitp.org: client-2']\n",
      "Producing user records to topic VJH_020_2. ^C to exit.\n",
      "Flushing records...\n",
      "User record b'bladecluster.iitp.org: client-3' successfully produced to VJH_020_2 [0] at offset 766\n"
     ]
    },
    {
     "name": "stderr",
     "output_type": "stream",
     "text": [
      "\r",
      " 51%|█████     | 26/51 [11:30<10:58, 26.36s/it]"
     ]
    },
    {
     "name": "stdout",
     "output_type": "stream",
     "text": [
      "Epoch: 26, Accuracy: 73.0, Test Loss: 1.5786500930786134\n",
      "Federated Training Epoch 26 of 51\n",
      "Epoch: 26, Processing Client bladecluster.iitp.org: client-3, Received 1 Updates From ['bladecluster.iitp.org: client-2']\n",
      "Producing user records to topic VJH_020_2. ^C to exit.\n",
      "Flushing records...\n",
      "User record b'bladecluster.iitp.org: client-3' successfully produced to VJH_020_2 [0] at offset 768\n"
     ]
    },
    {
     "name": "stderr",
     "output_type": "stream",
     "text": [
      "\r",
      " 53%|█████▎    | 27/51 [11:56<10:34, 26.43s/it]"
     ]
    },
    {
     "name": "stdout",
     "output_type": "stream",
     "text": [
      "Epoch: 27, Accuracy: 71.0, Test Loss: 1.3859762573242187\n",
      "Federated Training Epoch 27 of 51\n",
      "Epoch: 27, Processing Client bladecluster.iitp.org: client-3, Received 1 Updates From ['bladecluster.iitp.org: client-2']\n",
      "Producing user records to topic VJH_020_2. ^C to exit.\n",
      "Flushing records...\n",
      "User record b'bladecluster.iitp.org: client-3' successfully produced to VJH_020_2 [0] at offset 770\n"
     ]
    },
    {
     "name": "stderr",
     "output_type": "stream",
     "text": [
      "\r",
      " 55%|█████▍    | 28/51 [12:23<10:05, 26.31s/it]"
     ]
    },
    {
     "name": "stdout",
     "output_type": "stream",
     "text": [
      "Epoch: 28, Accuracy: 72.0, Test Loss: 2.0860678863525393\n",
      "Federated Training Epoch 28 of 51\n",
      "Epoch: 28, Processing Client bladecluster.iitp.org: client-3, Received 1 Updates From ['bladecluster.iitp.org: client-2']\n",
      "Producing user records to topic VJH_020_2. ^C to exit.\n",
      "Flushing records...\n",
      "User record b'bladecluster.iitp.org: client-3' successfully produced to VJH_020_2 [0] at offset 772\n"
     ]
    },
    {
     "name": "stderr",
     "output_type": "stream",
     "text": [
      "\r",
      " 57%|█████▋    | 29/51 [12:49<09:37, 26.25s/it]"
     ]
    },
    {
     "name": "stdout",
     "output_type": "stream",
     "text": [
      "Epoch: 29, Accuracy: 78.0, Test Loss: 1.2253070449829102\n",
      "Federated Training Epoch 29 of 51\n",
      "Epoch: 29, Processing Client bladecluster.iitp.org: client-3, Received 1 Updates From ['bladecluster.iitp.org: client-2']\n",
      "Producing user records to topic VJH_020_2. ^C to exit.\n",
      "Flushing records...\n",
      "User record b'bladecluster.iitp.org: client-3' successfully produced to VJH_020_2 [0] at offset 774\n"
     ]
    },
    {
     "name": "stderr",
     "output_type": "stream",
     "text": [
      "\r",
      " 59%|█████▉    | 30/51 [13:15<09:09, 26.18s/it]"
     ]
    },
    {
     "name": "stdout",
     "output_type": "stream",
     "text": [
      "Epoch: 30, Accuracy: 72.0, Test Loss: 1.5688754653930663\n",
      "Federated Training Epoch 30 of 51\n",
      "Epoch: 30, Processing Client bladecluster.iitp.org: client-3, Received 1 Updates From ['bladecluster.iitp.org: client-2']\n",
      "Producing user records to topic VJH_020_2. ^C to exit.\n",
      "Flushing records...\n",
      "User record b'bladecluster.iitp.org: client-3' successfully produced to VJH_020_2 [0] at offset 776\n"
     ]
    },
    {
     "name": "stderr",
     "output_type": "stream",
     "text": [
      "\r",
      " 61%|██████    | 31/51 [13:42<08:48, 26.44s/it]"
     ]
    },
    {
     "name": "stdout",
     "output_type": "stream",
     "text": [
      "Epoch: 31, Accuracy: 76.0, Test Loss: 1.3092716217041016\n",
      "Federated Training Epoch 31 of 51\n",
      "Epoch: 31, Processing Client bladecluster.iitp.org: client-3, Received 1 Updates From ['bladecluster.iitp.org: client-2']\n",
      "Producing user records to topic VJH_020_2. ^C to exit.\n",
      "Flushing records...\n",
      "User record b'bladecluster.iitp.org: client-3' successfully produced to VJH_020_2 [0] at offset 778\n"
     ]
    },
    {
     "name": "stderr",
     "output_type": "stream",
     "text": [
      "\r",
      " 63%|██████▎   | 32/51 [14:08<08:22, 26.47s/it]"
     ]
    },
    {
     "name": "stdout",
     "output_type": "stream",
     "text": [
      "Epoch: 32, Accuracy: 75.0, Test Loss: 1.6535157775878906\n",
      "Federated Training Epoch 32 of 51\n"
     ]
    }
   ],
   "source": [
    "# Federated Training\n",
    "for epoch in tqdm(range(fedargs.epochs)):\n",
    "    print(\"Federated Training Epoch {} of {}\".format(epoch, fedargs.epochs))\n",
    "\n",
    "    client_details['model'] = process(client_details['name'], epoch, dt,\n",
    "                                              client_details['model'],\n",
    "                                              client_details['train_loader'],\n",
    "                                              client_details['test_loader'],\n",
    "                                              fedargs, device)"
   ]
  }
 ],
 "metadata": {
  "kernelspec": {
   "display_name": "Python [conda env:syft]",
   "language": "python",
   "name": "conda-env-syft-py"
  },
  "language_info": {
   "codemirror_mode": {
    "name": "ipython",
    "version": 3
   },
   "file_extension": ".py",
   "mimetype": "text/x-python",
   "name": "python",
   "nbconvert_exporter": "python",
   "pygments_lexer": "ipython3",
   "version": "3.9.5"
  }
 },
 "nbformat": 4,
 "nbformat_minor": 5
}
