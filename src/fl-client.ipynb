{
 "cells": [
  {
   "cell_type": "code",
   "execution_count": 1,
   "id": "c6f72712",
   "metadata": {},
   "outputs": [],
   "source": [
    "%load_ext autoreload\n",
    "%autoreload 2\n",
    "\n",
    "import copy, os, socket, sys, time\n",
    "from pathlib import Path\n",
    "from tqdm import tqdm\n",
    "\n",
    "import torch\n",
    "from torch import optim\n",
    "from torch.utils.tensorboard import SummaryWriter\n",
    "\n",
    "sys.path.insert(0, os.path.abspath(os.path.join(os.getcwd(), \"../\")))\n",
    "from libs import data, fl, model"
   ]
  },
  {
   "cell_type": "code",
   "execution_count": 2,
   "id": "8f5684df",
   "metadata": {},
   "outputs": [],
   "source": [
    "class FedArgs():\n",
    "    def __init__(self):\n",
    "        self.name = \"client-x\"\n",
    "        self.num_clients = 50\n",
    "        self.epochs = 51\n",
    "        self.local_rounds = 1\n",
    "        self.client_batch_size = 32\n",
    "        self.test_batch_size = 128\n",
    "        self.learning_rate = 1e-4\n",
    "        self.weight_decay = 1e-5\n",
    "        self.cuda = False\n",
    "        self.seed = 1\n",
    "        self.dataset = \"mnist\"\n",
    "        self.model = model.ModelMNIST()\n",
    "        self.train_func = fl.train_model\n",
    "        self.eval_func = fl.evaluate\n",
    "        self.tb = SummaryWriter('./../out/runs/fl/client-run', comment=\"fl\")\n",
    "        \n",
    "fedargs = FedArgs()"
   ]
  },
  {
   "cell_type": "code",
   "execution_count": 3,
   "id": "f40088b9",
   "metadata": {},
   "outputs": [],
   "source": [
    "#fedargs.name = \"client-1\"\n",
    "project = 'fl-kafka-client'\n",
    "name = 'fedavg-cnn-mnist-na-' + fedargs.name\n",
    "fedargs.tb = SummaryWriter('../out/runs/' + project + '/' + name, comment=\"fl\")\n",
    "fedargs.num_clients = 1"
   ]
  },
  {
   "cell_type": "code",
   "execution_count": 4,
   "id": "e5a74359",
   "metadata": {},
   "outputs": [],
   "source": [
    "use_cuda = fedargs.cuda and torch.cuda.is_available()\n",
    "torch.manual_seed(fedargs.seed)\n",
    "device = torch.device(\"cuda\" if use_cuda else \"cpu\")\n",
    "kwargs = {\"num_workers\": 1, \"pin_memory\": True} if use_cuda else {}"
   ]
  },
  {
   "cell_type": "code",
   "execution_count": 5,
   "id": "815b7a7c",
   "metadata": {},
   "outputs": [],
   "source": [
    "host = socket.gethostname()\n",
    "clients = [host + \": \" + fedargs.name]"
   ]
  },
  {
   "cell_type": "code",
   "execution_count": 6,
   "id": "b4ee9b0f",
   "metadata": {},
   "outputs": [],
   "source": [
    "# Initialize Global and Client models\n",
    "global_model = copy.deepcopy(fedargs.model)\n",
    "# Load Data to clients\n",
    "train_loader, test_loader = data.load_dataset(fedargs.dataset, fedargs.client_batch_size)\n",
    "\n",
    "client_details = {\"name\": clients[0],\n",
    "                  \"train_loader\": train_loader,\n",
    "                  \"test_loader\": test_loader,\n",
    "                  \"model\": copy.deepcopy(global_model),\n",
    "                  \"model_update\": None}"
   ]
  },
  {
   "cell_type": "code",
   "execution_count": 7,
   "id": "b4b6dc16",
   "metadata": {},
   "outputs": [],
   "source": [
    "def process(client, epoch, model, train_loader, test_loader, fedargs, device):\n",
    "    print(\"Epoch: {}, Processing Client {}\".format(epoch, client))\n",
    "\n",
    "    # Train    \n",
    "    model_update, model, loss = fedargs.train_func(model, train_loader, \n",
    "                                                   fedargs.learning_rate,\n",
    "                                                   fedargs.weight_decay,\n",
    "                                                   fedargs.local_rounds, device)\n",
    "\n",
    "    epoch = epoch + 1\n",
    "\n",
    "    # Test, Plot and Log\n",
    "    test_output = fedargs.eval_func(model, test_loader, device)\n",
    "    fedargs.tb.add_scalar(\"Accuracy/\" + client, test_output[\"accuracy\"], epoch)\n",
    "    fedargs.tb.add_scalar(\"Test Loss/\" + client, test_output[\"test_loss\"], epoch)\n",
    "\n",
    "    return model"
   ]
  },
  {
   "cell_type": "code",
   "execution_count": null,
   "id": "9c0b7b09",
   "metadata": {},
   "outputs": [
    {
     "name": "stderr",
     "output_type": "stream",
     "text": [
      "\r",
      "  0%|          | 0/51 [00:00<?, ?it/s]"
     ]
    },
    {
     "name": "stdout",
     "output_type": "stream",
     "text": [
      "Federated Training Epoch 0 of 51\n",
      "Epoch: 0, Processing Client bladecluster.iitp.org: client-x\n"
     ]
    },
    {
     "name": "stderr",
     "output_type": "stream",
     "text": [
      "\r",
      "  2%|▏         | 1/51 [00:42<35:04, 42.09s/it]"
     ]
    },
    {
     "name": "stdout",
     "output_type": "stream",
     "text": [
      "Federated Training Epoch 1 of 51\n",
      "Epoch: 1, Processing Client bladecluster.iitp.org: client-x\n"
     ]
    },
    {
     "name": "stderr",
     "output_type": "stream",
     "text": [
      "\r",
      "  4%|▍         | 2/51 [01:23<33:55, 41.55s/it]"
     ]
    },
    {
     "name": "stdout",
     "output_type": "stream",
     "text": [
      "Federated Training Epoch 2 of 51\n",
      "Epoch: 2, Processing Client bladecluster.iitp.org: client-x\n"
     ]
    },
    {
     "name": "stderr",
     "output_type": "stream",
     "text": [
      "\r",
      "  6%|▌         | 3/51 [02:06<34:00, 42.52s/it]"
     ]
    },
    {
     "name": "stdout",
     "output_type": "stream",
     "text": [
      "Federated Training Epoch 3 of 51\n",
      "Epoch: 3, Processing Client bladecluster.iitp.org: client-x\n"
     ]
    },
    {
     "name": "stderr",
     "output_type": "stream",
     "text": [
      "\r",
      "  8%|▊         | 4/51 [02:50<33:40, 42.99s/it]"
     ]
    },
    {
     "name": "stdout",
     "output_type": "stream",
     "text": [
      "Federated Training Epoch 4 of 51\n",
      "Epoch: 4, Processing Client bladecluster.iitp.org: client-x\n"
     ]
    },
    {
     "name": "stderr",
     "output_type": "stream",
     "text": [
      "\r",
      " 10%|▉         | 5/51 [03:33<32:48, 42.80s/it]"
     ]
    },
    {
     "name": "stdout",
     "output_type": "stream",
     "text": [
      "Federated Training Epoch 5 of 51\n",
      "Epoch: 5, Processing Client bladecluster.iitp.org: client-x\n"
     ]
    },
    {
     "name": "stderr",
     "output_type": "stream",
     "text": [
      "\r",
      " 12%|█▏        | 6/51 [04:16<32:13, 42.97s/it]"
     ]
    },
    {
     "name": "stdout",
     "output_type": "stream",
     "text": [
      "Federated Training Epoch 6 of 51\n",
      "Epoch: 6, Processing Client bladecluster.iitp.org: client-x\n"
     ]
    }
   ],
   "source": [
    "# Federated Training\n",
    "for epoch in tqdm(range(fedargs.epochs)):\n",
    "    print(\"Federated Training Epoch {} of {}\".format(epoch, fedargs.epochs))\n",
    "\n",
    "    client_details['model'] = process(client_details['name'], epoch, \n",
    "                                              client_details['model'],\n",
    "                                              client_details['train_loader'],\n",
    "                                              client_details['test_loader'],\n",
    "                                              fedargs, device)"
   ]
  },
  {
   "cell_type": "code",
   "execution_count": null,
   "id": "b97172cc",
   "metadata": {},
   "outputs": [],
   "source": []
  }
 ],
 "metadata": {
  "kernelspec": {
   "display_name": "Python [conda env:syft]",
   "language": "python",
   "name": "conda-env-syft-py"
  },
  "language_info": {
   "codemirror_mode": {
    "name": "ipython",
    "version": 3
   },
   "file_extension": ".py",
   "mimetype": "text/x-python",
   "name": "python",
   "nbconvert_exporter": "python",
   "pygments_lexer": "ipython3",
   "version": "3.9.5"
  }
 },
 "nbformat": 4,
 "nbformat_minor": 5
}
