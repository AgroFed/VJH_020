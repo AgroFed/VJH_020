{
 "cells": [
  {
   "cell_type": "code",
   "execution_count": 1,
   "id": "7f8df444",
   "metadata": {},
   "outputs": [],
   "source": [
    "%load_ext autoreload\n",
    "%autoreload 2\n",
    "\n",
    "import copy, os, socket, sys, time\n",
    "from pathlib import Path\n",
    "from tqdm import tqdm\n",
    "\n",
    "import torch\n",
    "from torch import optim\n",
    "from torch.utils.tensorboard import SummaryWriter\n",
    "\n",
    "sys.path.insert(0, os.path.abspath(os.path.join(os.getcwd(), \"../\")))\n",
    "from libs import data, fl, nn, wandb\n",
    "from libs.distributed import *"
   ]
  },
  {
   "cell_type": "code",
   "execution_count": 2,
   "id": "cd71aade",
   "metadata": {},
   "outputs": [],
   "source": [
    "class FedArgs():\n",
    "    def __init__(self):\n",
    "        self.name = \"client-x\"\n",
    "        self.num_clients = 50\n",
    "        self.epochs = 51\n",
    "        self.local_rounds = 1\n",
    "        self.client_batch_size = 32\n",
    "        self.test_batch_size = 128\n",
    "        self.learning_rate = 1e-4\n",
    "        self.weight_decay = 1e-5\n",
    "        self.cuda = False\n",
    "        self.seed = 1\n",
    "        self.topic = \"VJH_020_1\"\n",
    "        self.broker_ip = '172.16.26.40:9092'\n",
    "        self.schema_ip = 'http://172.16.26.40:8081'\n",
    "        self.wait_to_consume = 10\n",
    "        self.dataset = \"mnist\"\n",
    "        self.model = nn.ModelMNIST()\n",
    "        self.train_func = fl.train_model\n",
    "        self.eval_func = fl.evaluate\n",
    "        \n",
    "fedargs = FedArgs()"
   ]
  },
  {
   "cell_type": "code",
   "execution_count": 3,
   "id": "e6f6d316",
   "metadata": {},
   "outputs": [
    {
     "name": "stderr",
     "output_type": "stream",
     "text": [
      "\u001b[34m\u001b[1mwandb\u001b[0m: Currently logged in as: \u001b[33mkasyah\u001b[0m (use `wandb login --relogin` to force relogin)\n",
      "\u001b[34m\u001b[1mwandb\u001b[0m: wandb version 0.12.6 is available!  To upgrade, please run:\n",
      "\u001b[34m\u001b[1mwandb\u001b[0m:  $ pip install wandb --upgrade\n"
     ]
    },
    {
     "data": {
      "text/html": [
       "\n",
       "                    Syncing run <strong><a href=\"https://wandb.ai/kasyah/fl-kafka-client/runs/16hirf9x\" target=\"_blank\">VJH_020_1-client-x</a></strong> to <a href=\"https://wandb.ai/kasyah/fl-kafka-client\" target=\"_blank\">Weights & Biases</a> (<a href=\"https://docs.wandb.com/integrations/jupyter.html\" target=\"_blank\">docs</a>).<br/>\n",
       "\n",
       "                "
      ],
      "text/plain": [
       "<IPython.core.display.HTML object>"
      ]
     },
     "metadata": {},
     "output_type": "display_data"
    }
   ],
   "source": [
    "#fedargs.name = \"client-1\"\n",
    "project = 'fl-kafka-client'\n",
    "name = 'VJH_020_1-' + fedargs.name\n",
    "wb = wandb.init(name, project)\n",
    "fedargs.num_clients = 1"
   ]
  },
  {
   "cell_type": "code",
   "execution_count": 4,
   "id": "badfa0d8",
   "metadata": {},
   "outputs": [],
   "source": [
    "use_cuda = fedargs.cuda and torch.cuda.is_available()\n",
    "torch.manual_seed(fedargs.seed)\n",
    "device = torch.device(\"cuda\" if use_cuda else \"cpu\")\n",
    "kwargs = {\"num_workers\": 1, \"pin_memory\": True} if use_cuda else {}"
   ]
  },
  {
   "cell_type": "code",
   "execution_count": 5,
   "id": "4cfa76c6",
   "metadata": {},
   "outputs": [
    {
     "name": "stdout",
     "output_type": "stream",
     "text": [
      "172.16.26.40:9092 http://172.16.26.40:8081\n"
     ]
    }
   ],
   "source": [
    "host = socket.gethostname()\n",
    "clients = [host + \": \" + fedargs.name]\n",
    "dt = Distributed(clients, fedargs.broker_ip, fedargs.schema_ip, fedargs.wait_to_consume)"
   ]
  },
  {
   "cell_type": "code",
   "execution_count": 6,
   "id": "ad76a57c",
   "metadata": {},
   "outputs": [],
   "source": [
    "# Initialize Global and Client models\n",
    "global_model = copy.deepcopy(fedargs.model)\n",
    "# Load Data to clients\n",
    "train_loader, test_loader = data.load_dataset(fedargs.dataset, fedargs.client_batch_size)\n",
    "\n",
    "client_details = {\"name\": clients[0],\n",
    "                  \"train_loader\": train_loader,\n",
    "                  \"test_loader\": test_loader,\n",
    "                  \"model\": copy.deepcopy(global_model),\n",
    "                  \"model_update\": None}"
   ]
  },
  {
   "cell_type": "code",
   "execution_count": 7,
   "id": "a453be25",
   "metadata": {},
   "outputs": [],
   "source": [
    "def process(client, epoch, dt, model, train_loader, test_loader, fedargs, device):\n",
    "    # Consume Models\n",
    "    client_model_updates = dt.consume_model(client, fedargs.topic, model, epoch)\n",
    "    if client in client_model_updates:\n",
    "        client_model_updates.pop(client)\n",
    "    print(\"Epoch: {}, Processing Client {}, Received {} Updates From {}\".format(epoch, client, \n",
    "                                                                                len(client_model_updates), \n",
    "                                                                                list(client_model_updates.keys())))\n",
    "\n",
    "    # Train    \n",
    "    model_update, model, loss = fedargs.train_func(model, train_loader, \n",
    "                                                   fedargs.learning_rate,\n",
    "                                                   fedargs.weight_decay,\n",
    "                                                   fedargs.local_rounds, device)\n",
    "\n",
    "    # Publish Model\n",
    "    epoch = epoch + 1\n",
    "    dt.produce_model(client, fedargs.topic, model_update, epoch)\n",
    "\n",
    "    # Test, Plot and Log\n",
    "    test_output = fedargs.eval_func(model, test_loader, device)\n",
    "    print(\"Epoch: {}, Accuracy: {}, Test Loss: {}\".format(epoch, test_output[\"accuracy\"], test_output[\"test_loss\"]))\n",
    "    wb.log({client: {\"epoch\": epoch, \"time\": time.time(), \"acc\": test_output[\"accuracy\"], \"loss\": test_output[\"test_loss\"]}})\n",
    "\n",
    "    return model"
   ]
  },
  {
   "cell_type": "code",
   "execution_count": 8,
   "id": "3ede4728",
   "metadata": {},
   "outputs": [
    {
     "name": "stderr",
     "output_type": "stream",
     "text": [
      "\r",
      "  0%|          | 0/51 [00:00<?, ?it/s]"
     ]
    },
    {
     "name": "stdout",
     "output_type": "stream",
     "text": [
      "Federated Training Epoch 0 of 51\n",
      "Epoch: 0, Processing Client bladecluster.iitp.org: client-x, Received 0 Updates From []\n",
      "Producing user records to topic VJH_020_1. ^C to exit.\n",
      "Flushing records...\n",
      "User record b'bladecluster.iitp.org: client-x' successfully produced to VJH_020_1 [0] at offset 0\n"
     ]
    },
    {
     "name": "stderr",
     "output_type": "stream",
     "text": [
      "\r",
      "  2%|▏         | 1/51 [01:21<1:07:51, 81.44s/it]"
     ]
    },
    {
     "name": "stdout",
     "output_type": "stream",
     "text": [
      "Epoch: 1, Accuracy: 97.39, Test Loss: 0.0876417950630188\n",
      "Federated Training Epoch 1 of 51\n",
      "Epoch: 1, Processing Client bladecluster.iitp.org: client-x, Received 1 Updates From ['bladecluster.iitp.org: client-1']\n",
      "Producing user records to topic VJH_020_1. ^C to exit.\n",
      "Flushing records...\n",
      "User record b'bladecluster.iitp.org: client-x' successfully produced to VJH_020_1 [0] at offset 2\n"
     ]
    },
    {
     "name": "stderr",
     "output_type": "stream",
     "text": [
      "\r",
      "  4%|▍         | 2/51 [02:49<1:09:40, 85.32s/it]"
     ]
    },
    {
     "name": "stdout",
     "output_type": "stream",
     "text": [
      "Epoch: 2, Accuracy: 96.13000000000001, Test Loss: 0.12607619415670634\n",
      "Federated Training Epoch 2 of 51\n",
      "Epoch: 2, Processing Client bladecluster.iitp.org: client-x, Received 0 Updates From []\n",
      "Producing user records to topic VJH_020_1. ^C to exit.\n",
      "Flushing records...\n",
      "User record b'bladecluster.iitp.org: client-x' successfully produced to VJH_020_1 [0] at offset 4\n"
     ]
    },
    {
     "name": "stderr",
     "output_type": "stream",
     "text": [
      "\r",
      "  6%|▌         | 3/51 [03:54<1:00:49, 76.03s/it]"
     ]
    },
    {
     "name": "stdout",
     "output_type": "stream",
     "text": [
      "Epoch: 3, Accuracy: 96.6, Test Loss: 0.10608393063098193\n",
      "Federated Training Epoch 3 of 51\n",
      "Epoch: 3, Processing Client bladecluster.iitp.org: client-x, Received 1 Updates From ['bladecluster.iitp.org: client-1']\n",
      "Producing user records to topic VJH_020_1. ^C to exit.\n",
      "Flushing records...\n",
      "User record b'bladecluster.iitp.org: client-x' successfully produced to VJH_020_1 [0] at offset 6\n"
     ]
    },
    {
     "name": "stderr",
     "output_type": "stream",
     "text": [
      "\r",
      "  8%|▊         | 4/51 [04:59<56:03, 71.57s/it]  "
     ]
    },
    {
     "name": "stdout",
     "output_type": "stream",
     "text": [
      "Epoch: 4, Accuracy: 96.00999999999999, Test Loss: 0.1358279367685318\n",
      "Federated Training Epoch 4 of 51\n",
      "Epoch: 4, Processing Client bladecluster.iitp.org: client-x, Received 1 Updates From ['bladecluster.iitp.org: client-1']\n",
      "Producing user records to topic VJH_020_1. ^C to exit.\n",
      "Flushing records...\n",
      "User record b'bladecluster.iitp.org: client-x' successfully produced to VJH_020_1 [0] at offset 8\n"
     ]
    },
    {
     "name": "stderr",
     "output_type": "stream",
     "text": [
      "\r",
      " 10%|▉         | 5/51 [06:48<1:05:24, 85.32s/it]"
     ]
    },
    {
     "name": "stdout",
     "output_type": "stream",
     "text": [
      "Epoch: 5, Accuracy: 96.56, Test Loss: 0.10612761734724045\n",
      "Federated Training Epoch 5 of 51\n",
      "Epoch: 5, Processing Client bladecluster.iitp.org: client-x, Received 1 Updates From ['bladecluster.iitp.org: client-1']\n",
      "Producing user records to topic VJH_020_1. ^C to exit.\n",
      "Flushing records...\n",
      "User record b'bladecluster.iitp.org: client-x' successfully produced to VJH_020_1 [0] at offset 10\n"
     ]
    },
    {
     "name": "stderr",
     "output_type": "stream",
     "text": [
      "\r",
      " 12%|█▏        | 6/51 [07:54<58:56, 78.59s/it]  "
     ]
    },
    {
     "name": "stdout",
     "output_type": "stream",
     "text": [
      "Epoch: 6, Accuracy: 96.31, Test Loss: 0.11806788367927075\n",
      "Federated Training Epoch 6 of 51\n",
      "Epoch: 6, Processing Client bladecluster.iitp.org: client-x, Received 1 Updates From ['bladecluster.iitp.org: client-1']\n",
      "Producing user records to topic VJH_020_1. ^C to exit.\n",
      "Flushing records...\n",
      "User record b'bladecluster.iitp.org: client-x' successfully produced to VJH_020_1 [0] at offset 11\n"
     ]
    },
    {
     "name": "stderr",
     "output_type": "stream",
     "text": [
      "\r",
      " 14%|█▎        | 7/51 [08:56<53:40, 73.18s/it]"
     ]
    },
    {
     "name": "stdout",
     "output_type": "stream",
     "text": [
      "Epoch: 7, Accuracy: 96.52, Test Loss: 0.10825521415621042\n",
      "Federated Training Epoch 7 of 51\n",
      "Epoch: 7, Processing Client bladecluster.iitp.org: client-x, Received 1 Updates From ['bladecluster.iitp.org: client-1']\n",
      "Producing user records to topic VJH_020_1. ^C to exit.\n",
      "Flushing records...\n",
      "User record b'bladecluster.iitp.org: client-x' successfully produced to VJH_020_1 [0] at offset 13\n"
     ]
    },
    {
     "name": "stderr",
     "output_type": "stream",
     "text": [
      "\r",
      " 16%|█▌        | 8/51 [10:05<51:27, 71.81s/it]"
     ]
    },
    {
     "name": "stdout",
     "output_type": "stream",
     "text": [
      "Epoch: 8, Accuracy: 96.53, Test Loss: 0.11792041621357202\n",
      "Federated Training Epoch 8 of 51\n",
      "Epoch: 8, Processing Client bladecluster.iitp.org: client-x, Received 1 Updates From ['bladecluster.iitp.org: client-1']\n",
      "Producing user records to topic VJH_020_1. ^C to exit.\n",
      "Flushing records...\n",
      "User record b'bladecluster.iitp.org: client-x' successfully produced to VJH_020_1 [0] at offset 15\n"
     ]
    },
    {
     "name": "stderr",
     "output_type": "stream",
     "text": [
      "\r",
      " 18%|█▊        | 9/51 [11:14<49:44, 71.06s/it]"
     ]
    },
    {
     "name": "stdout",
     "output_type": "stream",
     "text": [
      "Epoch: 9, Accuracy: 96.2, Test Loss: 0.12377694285511971\n",
      "Federated Training Epoch 9 of 51\n",
      "Epoch: 9, Processing Client bladecluster.iitp.org: client-x, Received 1 Updates From ['bladecluster.iitp.org: client-1']\n",
      "Producing user records to topic VJH_020_1. ^C to exit.\n",
      "Flushing records...\n",
      "User record b'bladecluster.iitp.org: client-x' successfully produced to VJH_020_1 [0] at offset 17\n"
     ]
    },
    {
     "name": "stderr",
     "output_type": "stream",
     "text": [
      "\r",
      " 20%|█▉        | 10/51 [15:33<1:28:03, 128.87s/it]"
     ]
    },
    {
     "name": "stdout",
     "output_type": "stream",
     "text": [
      "Epoch: 10, Accuracy: 96.33, Test Loss: 0.12914839190244676\n",
      "Federated Training Epoch 10 of 51\n",
      "Epoch: 10, Processing Client bladecluster.iitp.org: client-x, Received 2 Updates From ['bladecluster.iitp.org: client-1', 'bladecluster.iitp.org: client-2']\n",
      "Producing user records to topic VJH_020_1. ^C to exit.\n",
      "Flushing records...\n",
      "User record b'bladecluster.iitp.org: client-x' successfully produced to VJH_020_1 [0] at offset 20\n"
     ]
    },
    {
     "name": "stderr",
     "output_type": "stream",
     "text": [
      "\r",
      " 22%|██▏       | 11/51 [19:08<1:43:40, 155.52s/it]"
     ]
    },
    {
     "name": "stdout",
     "output_type": "stream",
     "text": [
      "Epoch: 11, Accuracy: 95.96000000000001, Test Loss: 0.13341416057646274\n",
      "Federated Training Epoch 11 of 51\n",
      "Epoch: 11, Processing Client bladecluster.iitp.org: client-x, Received 0 Updates From []\n",
      "Producing user records to topic VJH_020_1. ^C to exit.\n",
      "Flushing records...\n",
      "User record b'bladecluster.iitp.org: client-x' successfully produced to VJH_020_1 [0] at offset 23\n"
     ]
    },
    {
     "name": "stderr",
     "output_type": "stream",
     "text": [
      "\r",
      " 24%|██▎       | 12/51 [22:24<1:48:55, 167.58s/it]"
     ]
    },
    {
     "name": "stdout",
     "output_type": "stream",
     "text": [
      "Epoch: 12, Accuracy: 95.89, Test Loss: 0.1358468236923218\n",
      "Federated Training Epoch 12 of 51\n",
      "Epoch: 12, Processing Client bladecluster.iitp.org: client-x, Received 2 Updates From ['bladecluster.iitp.org: client-1', 'bladecluster.iitp.org: client-2']\n",
      "Producing user records to topic VJH_020_1. ^C to exit.\n",
      "Flushing records...\n",
      "User record b'bladecluster.iitp.org: client-x' successfully produced to VJH_020_1 [0] at offset 26\n"
     ]
    },
    {
     "name": "stderr",
     "output_type": "stream",
     "text": [
      "\r",
      " 25%|██▌       | 13/51 [25:19<1:47:37, 169.94s/it]"
     ]
    },
    {
     "name": "stdout",
     "output_type": "stream",
     "text": [
      "Epoch: 13, Accuracy: 95.59, Test Loss: 0.14891094936132432\n",
      "Federated Training Epoch 13 of 51\n",
      "Epoch: 13, Processing Client bladecluster.iitp.org: client-x, Received 2 Updates From ['bladecluster.iitp.org: client-1', 'bladecluster.iitp.org: client-2']\n",
      "Producing user records to topic VJH_020_1. ^C to exit.\n",
      "Flushing records...\n",
      "User record b'bladecluster.iitp.org: client-x' successfully produced to VJH_020_1 [0] at offset 29\n"
     ]
    },
    {
     "name": "stderr",
     "output_type": "stream",
     "text": [
      "\r",
      " 27%|██▋       | 14/51 [28:12<1:45:16, 170.73s/it]"
     ]
    },
    {
     "name": "stdout",
     "output_type": "stream",
     "text": [
      "Epoch: 14, Accuracy: 95.92, Test Loss: 0.13974969655871392\n",
      "Federated Training Epoch 14 of 51\n",
      "Epoch: 14, Processing Client bladecluster.iitp.org: client-x, Received 2 Updates From ['bladecluster.iitp.org: client-1', 'bladecluster.iitp.org: client-2']\n",
      "Producing user records to topic VJH_020_1. ^C to exit.\n",
      "Flushing records...\n",
      "User record b'bladecluster.iitp.org: client-x' successfully produced to VJH_020_1 [0] at offset 32\n"
     ]
    },
    {
     "name": "stderr",
     "output_type": "stream",
     "text": [
      "\u001b[34m\u001b[1mwandb\u001b[0m: Network error resolved after 0:00:57.566614, resuming normal operation.\n",
      " 29%|██▉       | 15/51 [31:20<1:45:38, 176.07s/it]"
     ]
    },
    {
     "name": "stdout",
     "output_type": "stream",
     "text": [
      "Epoch: 15, Accuracy: 95.85000000000001, Test Loss: 0.1375527284026146\n",
      "Federated Training Epoch 15 of 51\n",
      "Epoch: 15, Processing Client bladecluster.iitp.org: client-x, Received 2 Updates From ['bladecluster.iitp.org: client-1', 'bladecluster.iitp.org: client-2']\n",
      "Producing user records to topic VJH_020_1. ^C to exit.\n",
      "Flushing records...\n",
      "User record b'bladecluster.iitp.org: client-x' successfully produced to VJH_020_1 [0] at offset 35\n"
     ]
    },
    {
     "name": "stderr",
     "output_type": "stream",
     "text": [
      "\r",
      " 31%|███▏      | 16/51 [34:34<1:45:48, 181.38s/it]"
     ]
    },
    {
     "name": "stdout",
     "output_type": "stream",
     "text": [
      "Epoch: 16, Accuracy: 95.57, Test Loss: 0.14623372916579247\n",
      "Federated Training Epoch 16 of 51\n",
      "Epoch: 16, Processing Client bladecluster.iitp.org: client-x, Received 2 Updates From ['bladecluster.iitp.org: client-1', 'bladecluster.iitp.org: client-2']\n",
      "Producing user records to topic VJH_020_1. ^C to exit.\n",
      "Flushing records...\n",
      "User record b'bladecluster.iitp.org: client-x' successfully produced to VJH_020_1 [0] at offset 38\n"
     ]
    },
    {
     "name": "stderr",
     "output_type": "stream",
     "text": [
      "\r",
      " 33%|███▎      | 17/51 [37:31<1:42:01, 180.05s/it]"
     ]
    },
    {
     "name": "stdout",
     "output_type": "stream",
     "text": [
      "Epoch: 17, Accuracy: 95.89999999999999, Test Loss: 0.13492545241415502\n",
      "Federated Training Epoch 17 of 51\n",
      "Epoch: 17, Processing Client bladecluster.iitp.org: client-x, Received 2 Updates From ['bladecluster.iitp.org: client-1', 'bladecluster.iitp.org: client-2']\n",
      "Producing user records to topic VJH_020_1. ^C to exit.\n",
      "Flushing records...\n",
      "User record b'bladecluster.iitp.org: client-x' successfully produced to VJH_020_1 [0] at offset 41\n"
     ]
    },
    {
     "name": "stderr",
     "output_type": "stream",
     "text": [
      "\r",
      " 35%|███▌      | 18/51 [40:27<1:38:21, 178.83s/it]"
     ]
    },
    {
     "name": "stdout",
     "output_type": "stream",
     "text": [
      "Epoch: 18, Accuracy: 95.8, Test Loss: 0.14709530736505985\n",
      "Federated Training Epoch 18 of 51\n",
      "Epoch: 18, Processing Client bladecluster.iitp.org: client-x, Received 2 Updates From ['bladecluster.iitp.org: client-1', 'bladecluster.iitp.org: client-2']\n",
      "Producing user records to topic VJH_020_1. ^C to exit.\n",
      "Flushing records...\n",
      "User record b'bladecluster.iitp.org: client-x' successfully produced to VJH_020_1 [0] at offset 44\n"
     ]
    },
    {
     "name": "stderr",
     "output_type": "stream",
     "text": [
      "\r",
      " 37%|███▋      | 19/51 [43:19<1:34:18, 176.83s/it]"
     ]
    },
    {
     "name": "stdout",
     "output_type": "stream",
     "text": [
      "Epoch: 19, Accuracy: 95.66, Test Loss: 0.14568397090137006\n",
      "Federated Training Epoch 19 of 51\n",
      "Epoch: 19, Processing Client bladecluster.iitp.org: client-x, Received 2 Updates From ['bladecluster.iitp.org: client-1', 'bladecluster.iitp.org: client-2']\n",
      "Producing user records to topic VJH_020_1. ^C to exit.\n",
      "Flushing records...\n",
      "User record b'bladecluster.iitp.org: client-x' successfully produced to VJH_020_1 [0] at offset 47\n"
     ]
    },
    {
     "name": "stderr",
     "output_type": "stream",
     "text": [
      "\r",
      " 39%|███▉      | 20/51 [46:25<1:32:46, 179.56s/it]"
     ]
    },
    {
     "name": "stdout",
     "output_type": "stream",
     "text": [
      "Epoch: 20, Accuracy: 95.6, Test Loss: 0.1513850736349821\n",
      "Federated Training Epoch 20 of 51\n",
      "Epoch: 20, Processing Client bladecluster.iitp.org: client-x, Received 2 Updates From ['bladecluster.iitp.org: client-1', 'bladecluster.iitp.org: client-2']\n",
      "Producing user records to topic VJH_020_1. ^C to exit.\n",
      "Flushing records...\n",
      "User record b'bladecluster.iitp.org: client-x' successfully produced to VJH_020_1 [0] at offset 50\n"
     ]
    },
    {
     "name": "stderr",
     "output_type": "stream",
     "text": [
      "\r",
      " 41%|████      | 21/51 [50:02<1:35:25, 190.84s/it]"
     ]
    },
    {
     "name": "stdout",
     "output_type": "stream",
     "text": [
      "Epoch: 21, Accuracy: 95.77, Test Loss: 0.14140083599090575\n",
      "Federated Training Epoch 21 of 51\n",
      "Epoch: 21, Processing Client bladecluster.iitp.org: client-x, Received 2 Updates From ['bladecluster.iitp.org: client-1', 'bladecluster.iitp.org: client-2']\n",
      "Producing user records to topic VJH_020_1. ^C to exit.\n",
      "Flushing records...\n",
      "User record b'bladecluster.iitp.org: client-x' successfully produced to VJH_020_1 [0] at offset 53\n"
     ]
    },
    {
     "name": "stderr",
     "output_type": "stream",
     "text": [
      "\r",
      " 43%|████▎     | 22/51 [53:25<1:33:58, 194.43s/it]"
     ]
    },
    {
     "name": "stdout",
     "output_type": "stream",
     "text": [
      "Epoch: 22, Accuracy: 95.36, Test Loss: 0.147338456594944\n",
      "Federated Training Epoch 22 of 51\n",
      "Epoch: 22, Processing Client bladecluster.iitp.org: client-x, Received 2 Updates From ['bladecluster.iitp.org: client-1', 'bladecluster.iitp.org: client-2']\n",
      "Producing user records to topic VJH_020_1. ^C to exit.\n",
      "Flushing records...\n",
      "User record b'bladecluster.iitp.org: client-x' successfully produced to VJH_020_1 [0] at offset 56\n"
     ]
    },
    {
     "name": "stderr",
     "output_type": "stream",
     "text": [
      "\r",
      " 45%|████▌     | 23/51 [57:43<1:39:37, 213.50s/it]"
     ]
    },
    {
     "name": "stdout",
     "output_type": "stream",
     "text": [
      "Epoch: 23, Accuracy: 95.78999999999999, Test Loss: 0.1432215460419655\n",
      "Federated Training Epoch 23 of 51\n",
      "Epoch: 23, Processing Client bladecluster.iitp.org: client-x, Received 2 Updates From ['bladecluster.iitp.org: client-1', 'bladecluster.iitp.org: client-2']\n",
      "Producing user records to topic VJH_020_1. ^C to exit.\n",
      "Flushing records...\n",
      "User record b'bladecluster.iitp.org: client-x' successfully produced to VJH_020_1 [0] at offset 59\n"
     ]
    },
    {
     "name": "stderr",
     "output_type": "stream",
     "text": [
      "\r",
      " 47%|████▋     | 24/51 [1:01:10<1:35:18, 211.79s/it]"
     ]
    },
    {
     "name": "stdout",
     "output_type": "stream",
     "text": [
      "Epoch: 24, Accuracy: 95.71, Test Loss: 0.13664434888958932\n",
      "Federated Training Epoch 24 of 51\n",
      "Epoch: 24, Processing Client bladecluster.iitp.org: client-x, Received 2 Updates From ['bladecluster.iitp.org: client-2', 'bladecluster.iitp.org: client-1']\n",
      "Producing user records to topic VJH_020_1. ^C to exit.\n",
      "Flushing records...\n",
      "User record b'bladecluster.iitp.org: client-x' successfully produced to VJH_020_1 [0] at offset 65\n"
     ]
    },
    {
     "name": "stderr",
     "output_type": "stream",
     "text": [
      "\r",
      " 51%|█████     | 26/51 [1:07:43<1:25:12, 204.50s/it]"
     ]
    },
    {
     "name": "stdout",
     "output_type": "stream",
     "text": [
      "Epoch: 26, Accuracy: 95.78, Test Loss: 0.14747873598635197\n",
      "Federated Training Epoch 26 of 51\n",
      "Epoch: 26, Processing Client bladecluster.iitp.org: client-x, Received 1 Updates From ['bladecluster.iitp.org: client-2']\n",
      "Producing user records to topic VJH_020_1. ^C to exit.\n",
      "Flushing records...\n",
      "User record b'bladecluster.iitp.org: client-x' successfully produced to VJH_020_1 [0] at offset 68\n"
     ]
    },
    {
     "name": "stderr",
     "output_type": "stream",
     "text": [
      "\r",
      " 53%|█████▎    | 27/51 [1:11:13<1:22:32, 206.37s/it]"
     ]
    },
    {
     "name": "stdout",
     "output_type": "stream",
     "text": [
      "Epoch: 27, Accuracy: 95.88, Test Loss: 0.13692360990047456\n",
      "Federated Training Epoch 27 of 51\n",
      "Epoch: 27, Processing Client bladecluster.iitp.org: client-x, Received 2 Updates From ['bladecluster.iitp.org: client-1', 'bladecluster.iitp.org: client-2']\n",
      "Producing user records to topic VJH_020_1. ^C to exit.\n",
      "Flushing records...\n",
      "User record b'bladecluster.iitp.org: client-x' successfully produced to VJH_020_1 [0] at offset 71\n"
     ]
    },
    {
     "name": "stderr",
     "output_type": "stream",
     "text": [
      "\r",
      " 55%|█████▍    | 28/51 [1:15:09<1:22:26, 215.04s/it]"
     ]
    },
    {
     "name": "stdout",
     "output_type": "stream",
     "text": [
      "Epoch: 28, Accuracy: 95.63000000000001, Test Loss: 0.14902660186290742\n",
      "Federated Training Epoch 28 of 51\n",
      "Epoch: 28, Processing Client bladecluster.iitp.org: client-x, Received 2 Updates From ['bladecluster.iitp.org: client-1', 'bladecluster.iitp.org: client-2']\n",
      "Producing user records to topic VJH_020_1. ^C to exit.\n",
      "Flushing records...\n",
      "User record b'bladecluster.iitp.org: client-x' successfully produced to VJH_020_1 [0] at offset 74\n"
     ]
    },
    {
     "name": "stderr",
     "output_type": "stream",
     "text": [
      "\r",
      " 57%|█████▋    | 29/51 [1:18:35<1:17:50, 212.31s/it]"
     ]
    },
    {
     "name": "stdout",
     "output_type": "stream",
     "text": [
      "Epoch: 29, Accuracy: 95.21, Test Loss: 0.1551487323641777\n",
      "Federated Training Epoch 29 of 51\n",
      "Epoch: 29, Processing Client bladecluster.iitp.org: client-x, Received 2 Updates From ['bladecluster.iitp.org: client-2', 'bladecluster.iitp.org: client-1']\n",
      "Producing user records to topic VJH_020_1. ^C to exit.\n",
      "Flushing records...\n",
      "User record b'bladecluster.iitp.org: client-x' successfully produced to VJH_020_1 [0] at offset 77\n"
     ]
    },
    {
     "name": "stderr",
     "output_type": "stream",
     "text": [
      "\r",
      " 59%|█████▉    | 30/51 [1:26:29<1:41:48, 290.86s/it]"
     ]
    },
    {
     "name": "stdout",
     "output_type": "stream",
     "text": [
      "Epoch: 30, Accuracy: 95.39, Test Loss: 0.15046275275945664\n",
      "Federated Training Epoch 30 of 51\n",
      "Epoch: 30, Processing Client bladecluster.iitp.org: client-x, Received 1 Updates From ['bladecluster.iitp.org: client-2']\n",
      "Producing user records to topic VJH_020_1. ^C to exit.\n",
      "Flushing records...\n",
      "User record b'bladecluster.iitp.org: client-x' successfully produced to VJH_020_1 [0] at offset 80\n"
     ]
    },
    {
     "name": "stderr",
     "output_type": "stream",
     "text": [
      "\r",
      " 61%|██████    | 31/51 [1:36:04<2:05:23, 376.19s/it]"
     ]
    },
    {
     "name": "stdout",
     "output_type": "stream",
     "text": [
      "Epoch: 31, Accuracy: 95.61, Test Loss: 0.14653559498786925\n",
      "Federated Training Epoch 31 of 51\n",
      "Epoch: 31, Processing Client bladecluster.iitp.org: client-x, Received 2 Updates From ['bladecluster.iitp.org: client-1', 'bladecluster.iitp.org: client-2']\n",
      "Producing user records to topic VJH_020_1. ^C to exit.\n",
      "Flushing records...\n",
      "User record b'bladecluster.iitp.org: client-x' successfully produced to VJH_020_1 [0] at offset 83\n"
     ]
    },
    {
     "name": "stderr",
     "output_type": "stream",
     "text": [
      "\r",
      " 63%|██████▎   | 32/51 [1:39:41<1:43:57, 328.27s/it]"
     ]
    },
    {
     "name": "stdout",
     "output_type": "stream",
     "text": [
      "Epoch: 32, Accuracy: 95.73, Test Loss: 0.1416103817373514\n",
      "Federated Training Epoch 32 of 51\n",
      "Epoch: 32, Processing Client bladecluster.iitp.org: client-x, Received 2 Updates From ['bladecluster.iitp.org: client-1', 'bladecluster.iitp.org: client-2']\n"
     ]
    },
    {
     "name": "stderr",
     "output_type": "stream",
     "text": [
      " 63%|██████▎   | 32/51 [1:40:24<59:37, 188.27s/it]  \n"
     ]
    },
    {
     "ename": "KeyboardInterrupt",
     "evalue": "",
     "output_type": "error",
     "traceback": [
      "\u001b[0;31m---------------------------------------------------------------------------\u001b[0m",
      "\u001b[0;31mKeyboardInterrupt\u001b[0m                         Traceback (most recent call last)",
      "\u001b[0;32m<ipython-input-8-06fe8d25ff64>\u001b[0m in \u001b[0;36m<module>\u001b[0;34m\u001b[0m\n\u001b[1;32m      3\u001b[0m     \u001b[0mprint\u001b[0m\u001b[0;34m(\u001b[0m\u001b[0;34m\"Federated Training Epoch {} of {}\"\u001b[0m\u001b[0;34m.\u001b[0m\u001b[0mformat\u001b[0m\u001b[0;34m(\u001b[0m\u001b[0mepoch\u001b[0m\u001b[0;34m,\u001b[0m \u001b[0mfedargs\u001b[0m\u001b[0;34m.\u001b[0m\u001b[0mepochs\u001b[0m\u001b[0;34m)\u001b[0m\u001b[0;34m)\u001b[0m\u001b[0;34m\u001b[0m\u001b[0;34m\u001b[0m\u001b[0m\n\u001b[1;32m      4\u001b[0m \u001b[0;34m\u001b[0m\u001b[0m\n\u001b[0;32m----> 5\u001b[0;31m     client_details['model'] = process(client_details['name'], epoch, dt,\n\u001b[0m\u001b[1;32m      6\u001b[0m                                               \u001b[0mclient_details\u001b[0m\u001b[0;34m[\u001b[0m\u001b[0;34m'model'\u001b[0m\u001b[0;34m]\u001b[0m\u001b[0;34m,\u001b[0m\u001b[0;34m\u001b[0m\u001b[0;34m\u001b[0m\u001b[0m\n\u001b[1;32m      7\u001b[0m                                               \u001b[0mclient_details\u001b[0m\u001b[0;34m[\u001b[0m\u001b[0;34m'train_loader'\u001b[0m\u001b[0;34m]\u001b[0m\u001b[0;34m,\u001b[0m\u001b[0;34m\u001b[0m\u001b[0;34m\u001b[0m\u001b[0m\n",
      "\u001b[0;32m<ipython-input-7-72926fd86b63>\u001b[0m in \u001b[0;36mprocess\u001b[0;34m(client, epoch, dt, model, train_loader, test_loader, fedargs, device)\u001b[0m\n\u001b[1;32m      9\u001b[0m \u001b[0;34m\u001b[0m\u001b[0m\n\u001b[1;32m     10\u001b[0m     \u001b[0;31m# Train\u001b[0m\u001b[0;34m\u001b[0m\u001b[0;34m\u001b[0m\u001b[0;34m\u001b[0m\u001b[0m\n\u001b[0;32m---> 11\u001b[0;31m     model_update, model, loss = fedargs.train_func(model, train_loader, \n\u001b[0m\u001b[1;32m     12\u001b[0m                                                    \u001b[0mfedargs\u001b[0m\u001b[0;34m.\u001b[0m\u001b[0mlearning_rate\u001b[0m\u001b[0;34m,\u001b[0m\u001b[0;34m\u001b[0m\u001b[0;34m\u001b[0m\u001b[0m\n\u001b[1;32m     13\u001b[0m                                                    \u001b[0mfedargs\u001b[0m\u001b[0;34m.\u001b[0m\u001b[0mweight_decay\u001b[0m\u001b[0;34m,\u001b[0m\u001b[0;34m\u001b[0m\u001b[0;34m\u001b[0m\u001b[0m\n",
      "\u001b[0;32m~/hub/VJH_020/libs/fl.py\u001b[0m in \u001b[0;36mtrain_model\u001b[0;34m(_model, train_loader, lr, wd, r, device)\u001b[0m\n\u001b[1;32m     72\u001b[0m \u001b[0;34m\u001b[0m\u001b[0m\n\u001b[1;32m     73\u001b[0m \u001b[0;32mdef\u001b[0m \u001b[0mtrain_model\u001b[0m\u001b[0;34m(\u001b[0m\u001b[0m_model\u001b[0m\u001b[0;34m,\u001b[0m \u001b[0mtrain_loader\u001b[0m\u001b[0;34m,\u001b[0m \u001b[0mlr\u001b[0m\u001b[0;34m,\u001b[0m \u001b[0mwd\u001b[0m\u001b[0;34m,\u001b[0m \u001b[0mr\u001b[0m\u001b[0;34m,\u001b[0m \u001b[0mdevice\u001b[0m\u001b[0;34m)\u001b[0m\u001b[0;34m:\u001b[0m\u001b[0;34m\u001b[0m\u001b[0;34m\u001b[0m\u001b[0m\n\u001b[0;32m---> 74\u001b[0;31m     \u001b[0mmodel\u001b[0m\u001b[0;34m,\u001b[0m \u001b[0mloss\u001b[0m \u001b[0;34m=\u001b[0m \u001b[0mclient_update\u001b[0m\u001b[0;34m(\u001b[0m\u001b[0m_model\u001b[0m\u001b[0;34m,\u001b[0m \u001b[0mtrain_loader\u001b[0m\u001b[0;34m,\u001b[0m \u001b[0mlr\u001b[0m\u001b[0;34m,\u001b[0m \u001b[0mwd\u001b[0m\u001b[0;34m,\u001b[0m \u001b[0mr\u001b[0m\u001b[0;34m,\u001b[0m \u001b[0mdevice\u001b[0m\u001b[0;34m)\u001b[0m\u001b[0;34m\u001b[0m\u001b[0;34m\u001b[0m\u001b[0m\n\u001b[0m\u001b[1;32m     75\u001b[0m     \u001b[0mmodel_update\u001b[0m \u001b[0;34m=\u001b[0m \u001b[0msub_model\u001b[0m\u001b[0;34m(\u001b[0m\u001b[0m_model\u001b[0m\u001b[0;34m,\u001b[0m \u001b[0mmodel\u001b[0m\u001b[0;34m)\u001b[0m\u001b[0;34m\u001b[0m\u001b[0;34m\u001b[0m\u001b[0m\n\u001b[1;32m     76\u001b[0m     \u001b[0;32mreturn\u001b[0m \u001b[0mmodel_update\u001b[0m\u001b[0;34m,\u001b[0m \u001b[0mmodel\u001b[0m\u001b[0;34m,\u001b[0m \u001b[0mloss\u001b[0m\u001b[0;34m\u001b[0m\u001b[0;34m\u001b[0m\u001b[0m\n",
      "\u001b[0;32m~/hub/VJH_020/libs/fl.py\u001b[0m in \u001b[0;36mclient_update\u001b[0;34m(_model, data_loader, learning_rate, decay, epochs, device)\u001b[0m\n\u001b[1;32m     18\u001b[0m             \u001b[0moutput\u001b[0m \u001b[0;34m=\u001b[0m \u001b[0mmodel\u001b[0m\u001b[0;34m(\u001b[0m\u001b[0mdata\u001b[0m\u001b[0;34m)\u001b[0m\u001b[0;34m\u001b[0m\u001b[0;34m\u001b[0m\u001b[0m\n\u001b[1;32m     19\u001b[0m             \u001b[0m_loss\u001b[0m \u001b[0;34m=\u001b[0m \u001b[0mF\u001b[0m\u001b[0;34m.\u001b[0m\u001b[0mnll_loss\u001b[0m\u001b[0;34m(\u001b[0m\u001b[0moutput\u001b[0m\u001b[0;34m,\u001b[0m \u001b[0mtarget\u001b[0m\u001b[0;34m)\u001b[0m\u001b[0;34m\u001b[0m\u001b[0;34m\u001b[0m\u001b[0m\n\u001b[0;32m---> 20\u001b[0;31m             \u001b[0m_loss\u001b[0m\u001b[0;34m.\u001b[0m\u001b[0mbackward\u001b[0m\u001b[0;34m(\u001b[0m\u001b[0;34m)\u001b[0m\u001b[0;34m\u001b[0m\u001b[0;34m\u001b[0m\u001b[0m\n\u001b[0m\u001b[1;32m     21\u001b[0m             \u001b[0moptimizer\u001b[0m\u001b[0;34m.\u001b[0m\u001b[0mstep\u001b[0m\u001b[0;34m(\u001b[0m\u001b[0;34m)\u001b[0m\u001b[0;34m\u001b[0m\u001b[0;34m\u001b[0m\u001b[0m\n\u001b[1;32m     22\u001b[0m \u001b[0;34m\u001b[0m\u001b[0m\n",
      "\u001b[0;32m~/anaconda3/envs/syft/lib/python3.9/site-packages/torch/tensor.py\u001b[0m in \u001b[0;36mbackward\u001b[0;34m(self, gradient, retain_graph, create_graph, inputs)\u001b[0m\n\u001b[1;32m    243\u001b[0m                 \u001b[0mcreate_graph\u001b[0m\u001b[0;34m=\u001b[0m\u001b[0mcreate_graph\u001b[0m\u001b[0;34m,\u001b[0m\u001b[0;34m\u001b[0m\u001b[0;34m\u001b[0m\u001b[0m\n\u001b[1;32m    244\u001b[0m                 inputs=inputs)\n\u001b[0;32m--> 245\u001b[0;31m         \u001b[0mtorch\u001b[0m\u001b[0;34m.\u001b[0m\u001b[0mautograd\u001b[0m\u001b[0;34m.\u001b[0m\u001b[0mbackward\u001b[0m\u001b[0;34m(\u001b[0m\u001b[0mself\u001b[0m\u001b[0;34m,\u001b[0m \u001b[0mgradient\u001b[0m\u001b[0;34m,\u001b[0m \u001b[0mretain_graph\u001b[0m\u001b[0;34m,\u001b[0m \u001b[0mcreate_graph\u001b[0m\u001b[0;34m,\u001b[0m \u001b[0minputs\u001b[0m\u001b[0;34m=\u001b[0m\u001b[0minputs\u001b[0m\u001b[0;34m)\u001b[0m\u001b[0;34m\u001b[0m\u001b[0;34m\u001b[0m\u001b[0m\n\u001b[0m\u001b[1;32m    246\u001b[0m \u001b[0;34m\u001b[0m\u001b[0m\n\u001b[1;32m    247\u001b[0m     \u001b[0;32mdef\u001b[0m \u001b[0mregister_hook\u001b[0m\u001b[0;34m(\u001b[0m\u001b[0mself\u001b[0m\u001b[0;34m,\u001b[0m \u001b[0mhook\u001b[0m\u001b[0;34m)\u001b[0m\u001b[0;34m:\u001b[0m\u001b[0;34m\u001b[0m\u001b[0;34m\u001b[0m\u001b[0m\n",
      "\u001b[0;32m~/anaconda3/envs/syft/lib/python3.9/site-packages/torch/autograd/__init__.py\u001b[0m in \u001b[0;36mbackward\u001b[0;34m(tensors, grad_tensors, retain_graph, create_graph, grad_variables, inputs)\u001b[0m\n\u001b[1;32m    143\u001b[0m         \u001b[0mretain_graph\u001b[0m \u001b[0;34m=\u001b[0m \u001b[0mcreate_graph\u001b[0m\u001b[0;34m\u001b[0m\u001b[0;34m\u001b[0m\u001b[0m\n\u001b[1;32m    144\u001b[0m \u001b[0;34m\u001b[0m\u001b[0m\n\u001b[0;32m--> 145\u001b[0;31m     Variable._execution_engine.run_backward(\n\u001b[0m\u001b[1;32m    146\u001b[0m         \u001b[0mtensors\u001b[0m\u001b[0;34m,\u001b[0m \u001b[0mgrad_tensors_\u001b[0m\u001b[0;34m,\u001b[0m \u001b[0mretain_graph\u001b[0m\u001b[0;34m,\u001b[0m \u001b[0mcreate_graph\u001b[0m\u001b[0;34m,\u001b[0m \u001b[0minputs\u001b[0m\u001b[0;34m,\u001b[0m\u001b[0;34m\u001b[0m\u001b[0;34m\u001b[0m\u001b[0m\n\u001b[1;32m    147\u001b[0m         allow_unreachable=True, accumulate_grad=True)  # allow_unreachable flag\n",
      "\u001b[0;31mKeyboardInterrupt\u001b[0m: "
     ]
    }
   ],
   "source": [
    "# Federated Training\n",
    "for epoch in tqdm(range(fedargs.epochs)):\n",
    "    print(\"Federated Training Epoch {} of {}\".format(epoch, fedargs.epochs))\n",
    "\n",
    "    client_details['model'] = process(client_details['name'], epoch, dt,\n",
    "                                              client_details['model'],\n",
    "                                              client_details['train_loader'],\n",
    "                                              client_details['test_loader'],\n",
    "                                              fedargs, device)"
   ]
  },
  {
   "cell_type": "code",
   "execution_count": null,
   "id": "7a965b83",
   "metadata": {},
   "outputs": [],
   "source": []
  }
 ],
 "metadata": {
  "kernelspec": {
   "display_name": "Python [conda env:syft]",
   "language": "python",
   "name": "conda-env-syft-py"
  }
 },
 "nbformat": 4,
 "nbformat_minor": 5
}
