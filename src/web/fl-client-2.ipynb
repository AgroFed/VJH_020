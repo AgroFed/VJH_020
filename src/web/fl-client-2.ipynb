{
 "cells": [
  {
   "cell_type": "code",
   "execution_count": 1,
   "id": "7f8df444",
   "metadata": {},
   "outputs": [],
   "source": [
    "%load_ext autoreload\n",
    "%autoreload 2\n",
    "\n",
    "import copy, os, socket, sys, time\n",
    "from pathlib import Path\n",
    "from tqdm import tqdm\n",
    "\n",
    "import torch\n",
    "from torch import optim\n",
    "\n",
    "sys.path.insert(0, os.path.abspath(os.path.join(os.getcwd(), \"../../\")))\n",
    "from libs import data, fl, nn, wandb\n",
    "from libs.distributed import *"
   ]
  },
  {
   "cell_type": "code",
   "execution_count": 2,
   "id": "cd71aade",
   "metadata": {},
   "outputs": [],
   "source": [
    "class FedArgs():\n",
    "    def __init__(self):\n",
    "        self.name = \"client-2\"\n",
    "        self.num_clients = 50\n",
    "        self.epochs = 51\n",
    "        self.local_rounds = 1\n",
    "        self.client_batch_size = 32\n",
    "        self.test_batch_size = 64\n",
    "        self.learning_rate = 0.001\n",
    "        self.weight_decay = None\n",
    "        self.cuda = False\n",
    "        self.seed = 1\n",
    "        self.topic = \"VJH_020_2\"\n",
    "        self.broker_ip = '172.16.26.40:9092'\n",
    "        self.schema_ip = 'http://172.16.26.40:8081'\n",
    "        self.wait_to_consume = 10\n",
    "        self.dataset = \"lemon\"\n",
    "        self.model = nn.LemonNet()\n",
    "        self.train_func = fl.train_model\n",
    "        self.eval_func = fl.evaluate\n",
    "        \n",
    "fedargs = FedArgs()"
   ]
  },
  {
   "cell_type": "code",
   "execution_count": 3,
   "id": "e6f6d316",
   "metadata": {},
   "outputs": [
    {
     "name": "stderr",
     "output_type": "stream",
     "text": [
      "\u001b[34m\u001b[1mwandb\u001b[0m: Currently logged in as: \u001b[33mkasyah\u001b[0m (use `wandb login --relogin` to force relogin)\n",
      "\u001b[34m\u001b[1mwandb\u001b[0m: wandb version 0.12.6 is available!  To upgrade, please run:\n",
      "\u001b[34m\u001b[1mwandb\u001b[0m:  $ pip install wandb --upgrade\n"
     ]
    },
    {
     "data": {
      "text/html": [
       "\n",
       "                    Syncing run <strong><a href=\"https://wandb.ai/kasyah/fl-kafka-client/runs/1fnamk3x\" target=\"_blank\">VJH_020_1-client-2</a></strong> to <a href=\"https://wandb.ai/kasyah/fl-kafka-client\" target=\"_blank\">Weights & Biases</a> (<a href=\"https://docs.wandb.com/integrations/jupyter.html\" target=\"_blank\">docs</a>).<br/>\n",
       "\n",
       "                "
      ],
      "text/plain": [
       "<IPython.core.display.HTML object>"
      ]
     },
     "metadata": {},
     "output_type": "display_data"
    }
   ],
   "source": [
    "project = 'fl-kafka-client'\n",
    "name = 'VJH_020_1-' + fedargs.name\n",
    "wb = wandb.init(name, project)\n",
    "fedargs.num_clients = 1"
   ]
  },
  {
   "cell_type": "code",
   "execution_count": 4,
   "id": "badfa0d8",
   "metadata": {},
   "outputs": [],
   "source": [
    "use_cuda = fedargs.cuda and torch.cuda.is_available()\n",
    "torch.manual_seed(fedargs.seed)\n",
    "device = torch.device(\"cuda\" if use_cuda else \"cpu\")\n",
    "kwargs = {\"num_workers\": 1, \"pin_memory\": True} if use_cuda else {}"
   ]
  },
  {
   "cell_type": "code",
   "execution_count": 5,
   "id": "4cfa76c6",
   "metadata": {},
   "outputs": [],
   "source": [
    "host = socket.gethostname()\n",
    "clients = [host + \": \" + fedargs.name]\n",
    "dt = Distributed(clients, fedargs.broker_ip, fedargs.schema_ip, fedargs.wait_to_consume)"
   ]
  },
  {
   "cell_type": "code",
   "execution_count": 6,
   "id": "ad76a57c",
   "metadata": {},
   "outputs": [],
   "source": [
    "# Initialize Global and Client models\n",
    "global_model = copy.deepcopy(fedargs.model)\n",
    "# Load Data to clients\n",
    "train_loader, test_loader = data.load_dataset(fedargs.dataset, fedargs.client_batch_size, fedargs.test_batch_size)\n",
    "\n",
    "client_details = {\"name\": clients[0],\n",
    "                  \"train_loader\": train_loader,\n",
    "                  \"test_loader\": test_loader,\n",
    "                  \"model\": copy.deepcopy(global_model),\n",
    "                  \"model_update\": None}"
   ]
  },
  {
   "cell_type": "code",
   "execution_count": 7,
   "id": "a453be25",
   "metadata": {},
   "outputs": [],
   "source": [
    "def process(client, epoch, dt, model, train_loader, test_loader, fedargs, device):\n",
    "    # Consume Models\n",
    "    client_model_updates = dt.consume_model(client, fedargs.topic, model, epoch)\n",
    "    if client in client_model_updates:\n",
    "        client_model_updates.pop(client)\n",
    "    print(\"Epoch: {}, Processing Client {}, Received {} Updates From {}\".format(epoch, client, \n",
    "                                                                                len(client_model_updates), \n",
    "                                                                                list(client_model_updates.keys())))\n",
    "\n",
    "    #if len(client_model_updates) != 0:\n",
    "    #    model = fl.federated_avg(client_model_updates)\n",
    "    \n",
    "    # Train\n",
    "    model_update, model, loss = fedargs.train_func(model, train_loader, \n",
    "                                                   fedargs.learning_rate,\n",
    "                                                   fedargs.weight_decay,\n",
    "                                                   fedargs.local_rounds, device)\n",
    "    \n",
    "    # Publish Model\n",
    "    epoch = epoch + 1\n",
    "    dt.produce_model(client, fedargs.topic, model, epoch)\n",
    "\n",
    "    # Test, Plot and Log\n",
    "    test_output = fedargs.eval_func(model, test_loader, device)\n",
    "    print(\"Epoch: {}, Accuracy: {}, Test Loss: {}\".format(epoch, test_output[\"accuracy\"], test_output[\"test_loss\"]))\n",
    "    wb.log({client: {\"epoch\": epoch, \"time\": time.time(), \"acc\": test_output[\"accuracy\"], \"loss\": test_output[\"test_loss\"]}})\n",
    "\n",
    "    return model"
   ]
  },
  {
   "cell_type": "code",
   "execution_count": null,
   "id": "3ede4728",
   "metadata": {},
   "outputs": [
    {
     "name": "stderr",
     "output_type": "stream",
     "text": [
      "\r",
      "  0%|          | 0/51 [00:00<?, ?it/s]"
     ]
    },
    {
     "name": "stdout",
     "output_type": "stream",
     "text": [
      "Federated Training Epoch 0 of 51\n",
      "Epoch: 0, Processing Client bladecluster.iitp.org: client-2, Received 2 Updates From ['bladecluster.iitp.org: client-3', 'bladecluster.iitp.org: client-1']\n",
      "Producing user records to topic VJH_020_2. ^C to exit.\n",
      "Flushing records...\n",
      "User record b'bladecluster.iitp.org: client-2' successfully produced to VJH_020_2 [0] at offset 820\n"
     ]
    },
    {
     "name": "stderr",
     "output_type": "stream",
     "text": [
      "\r",
      "  2%|▏         | 1/51 [00:26<22:28, 26.97s/it]"
     ]
    },
    {
     "name": "stdout",
     "output_type": "stream",
     "text": [
      "Epoch: 1, Accuracy: 73.0, Test Loss: 2.237951889038086\n",
      "Federated Training Epoch 1 of 51\n",
      "Epoch: 1, Processing Client bladecluster.iitp.org: client-2, Received 0 Updates From []\n",
      "Producing user records to topic VJH_020_2. ^C to exit.\n",
      "Flushing records...\n",
      "User record b'bladecluster.iitp.org: client-2' successfully produced to VJH_020_2 [0] at offset 821\n"
     ]
    },
    {
     "name": "stderr",
     "output_type": "stream",
     "text": [
      "\r",
      "  4%|▍         | 2/51 [00:53<21:42, 26.59s/it]"
     ]
    },
    {
     "name": "stdout",
     "output_type": "stream",
     "text": [
      "Epoch: 2, Accuracy: 77.0, Test Loss: 1.7260897827148438\n",
      "Federated Training Epoch 2 of 51\n",
      "Epoch: 2, Processing Client bladecluster.iitp.org: client-2, Received 0 Updates From []\n",
      "Producing user records to topic VJH_020_2. ^C to exit.\n",
      "Flushing records...\n",
      "User record b'bladecluster.iitp.org: client-2' successfully produced to VJH_020_2 [0] at offset 822\n"
     ]
    },
    {
     "name": "stderr",
     "output_type": "stream",
     "text": [
      "\r",
      "  6%|▌         | 3/51 [01:19<21:08, 26.43s/it]"
     ]
    },
    {
     "name": "stdout",
     "output_type": "stream",
     "text": [
      "Epoch: 3, Accuracy: 79.0, Test Loss: 1.9731148529052733\n",
      "Federated Training Epoch 3 of 51\n",
      "Epoch: 3, Processing Client bladecluster.iitp.org: client-2, Received 0 Updates From []\n",
      "Producing user records to topic VJH_020_2. ^C to exit.\n",
      "Flushing records...\n",
      "User record b'bladecluster.iitp.org: client-2' successfully produced to VJH_020_2 [0] at offset 823\n"
     ]
    },
    {
     "name": "stderr",
     "output_type": "stream",
     "text": [
      "\r",
      "  8%|▊         | 4/51 [01:46<20:58, 26.78s/it]"
     ]
    },
    {
     "name": "stdout",
     "output_type": "stream",
     "text": [
      "Epoch: 4, Accuracy: 73.0, Test Loss: 2.667895851135254\n",
      "Federated Training Epoch 4 of 51\n",
      "Epoch: 4, Processing Client bladecluster.iitp.org: client-2, Received 0 Updates From []\n",
      "Producing user records to topic VJH_020_2. ^C to exit.\n",
      "Flushing records...\n",
      "User record b'bladecluster.iitp.org: client-2' successfully produced to VJH_020_2 [0] at offset 824\n"
     ]
    },
    {
     "name": "stderr",
     "output_type": "stream",
     "text": [
      "\r",
      " 10%|▉         | 5/51 [02:13<20:33, 26.81s/it]"
     ]
    },
    {
     "name": "stdout",
     "output_type": "stream",
     "text": [
      "Epoch: 5, Accuracy: 73.0, Test Loss: 2.392272720336914\n",
      "Federated Training Epoch 5 of 51\n",
      "Epoch: 5, Processing Client bladecluster.iitp.org: client-2, Received 0 Updates From []\n",
      "Producing user records to topic VJH_020_2. ^C to exit.\n",
      "Flushing records...\n",
      "User record b'bladecluster.iitp.org: client-2' successfully produced to VJH_020_2 [0] at offset 825\n"
     ]
    },
    {
     "name": "stderr",
     "output_type": "stream",
     "text": [
      "\r",
      " 12%|█▏        | 6/51 [02:39<19:55, 26.56s/it]"
     ]
    },
    {
     "name": "stdout",
     "output_type": "stream",
     "text": [
      "Epoch: 6, Accuracy: 76.0, Test Loss: 2.540900650024414\n",
      "Federated Training Epoch 6 of 51\n",
      "Epoch: 6, Processing Client bladecluster.iitp.org: client-2, Received 0 Updates From []\n",
      "Producing user records to topic VJH_020_2. ^C to exit.\n",
      "Flushing records...\n",
      "User record b'bladecluster.iitp.org: client-2' successfully produced to VJH_020_2 [0] at offset 826\n"
     ]
    },
    {
     "name": "stderr",
     "output_type": "stream",
     "text": [
      "\r",
      " 14%|█▎        | 7/51 [03:06<19:27, 26.54s/it]"
     ]
    },
    {
     "name": "stdout",
     "output_type": "stream",
     "text": [
      "Epoch: 7, Accuracy: 78.0, Test Loss: 2.2356905364990234\n",
      "Federated Training Epoch 7 of 51\n",
      "Epoch: 7, Processing Client bladecluster.iitp.org: client-2, Received 0 Updates From []\n",
      "Producing user records to topic VJH_020_2. ^C to exit.\n",
      "Flushing records...\n",
      "User record b'bladecluster.iitp.org: client-2' successfully produced to VJH_020_2 [0] at offset 827\n"
     ]
    },
    {
     "name": "stderr",
     "output_type": "stream",
     "text": [
      "\r",
      " 16%|█▌        | 8/51 [03:32<18:55, 26.40s/it]"
     ]
    },
    {
     "name": "stdout",
     "output_type": "stream",
     "text": [
      "Epoch: 8, Accuracy: 74.0, Test Loss: 2.9908811950683596\n",
      "Federated Training Epoch 8 of 51\n",
      "Epoch: 8, Processing Client bladecluster.iitp.org: client-2, Received 0 Updates From []\n",
      "Producing user records to topic VJH_020_2. ^C to exit.\n",
      "Flushing records...\n",
      "User record b'bladecluster.iitp.org: client-2' successfully produced to VJH_020_2 [0] at offset 828\n"
     ]
    },
    {
     "name": "stderr",
     "output_type": "stream",
     "text": [
      "\r",
      " 18%|█▊        | 9/51 [03:58<18:27, 26.37s/it]"
     ]
    },
    {
     "name": "stdout",
     "output_type": "stream",
     "text": [
      "Epoch: 9, Accuracy: 72.0, Test Loss: 2.645022277832031\n",
      "Federated Training Epoch 9 of 51\n",
      "Epoch: 9, Processing Client bladecluster.iitp.org: client-2, Received 0 Updates From []\n",
      "Producing user records to topic VJH_020_2. ^C to exit.\n",
      "Flushing records...\n",
      "User record b'bladecluster.iitp.org: client-2' successfully produced to VJH_020_2 [0] at offset 829\n"
     ]
    },
    {
     "name": "stderr",
     "output_type": "stream",
     "text": [
      "\r",
      " 20%|█▉        | 10/51 [04:24<17:59, 26.33s/it]"
     ]
    },
    {
     "name": "stdout",
     "output_type": "stream",
     "text": [
      "Epoch: 10, Accuracy: 74.0, Test Loss: 3.005502243041992\n",
      "Federated Training Epoch 10 of 51\n",
      "Epoch: 10, Processing Client bladecluster.iitp.org: client-2, Received 0 Updates From []\n",
      "Producing user records to topic VJH_020_2. ^C to exit.\n",
      "Flushing records...\n",
      "User record b'bladecluster.iitp.org: client-2' successfully produced to VJH_020_2 [0] at offset 830\n"
     ]
    },
    {
     "name": "stderr",
     "output_type": "stream",
     "text": [
      "\r",
      " 22%|██▏       | 11/51 [04:50<17:29, 26.24s/it]"
     ]
    },
    {
     "name": "stdout",
     "output_type": "stream",
     "text": [
      "Epoch: 11, Accuracy: 78.0, Test Loss: 2.517292022705078\n",
      "Federated Training Epoch 11 of 51\n",
      "Epoch: 11, Processing Client bladecluster.iitp.org: client-2, Received 0 Updates From []\n",
      "Producing user records to topic VJH_020_2. ^C to exit.\n",
      "Flushing records...\n",
      "User record b'bladecluster.iitp.org: client-2' successfully produced to VJH_020_2 [0] at offset 831\n"
     ]
    },
    {
     "name": "stderr",
     "output_type": "stream",
     "text": [
      "\r",
      " 24%|██▎       | 12/51 [05:17<17:06, 26.31s/it]"
     ]
    },
    {
     "name": "stdout",
     "output_type": "stream",
     "text": [
      "Epoch: 12, Accuracy: 72.0, Test Loss: 2.943272705078125\n",
      "Federated Training Epoch 12 of 51\n",
      "Epoch: 12, Processing Client bladecluster.iitp.org: client-2, Received 0 Updates From []\n",
      "Producing user records to topic VJH_020_2. ^C to exit.\n",
      "Flushing records...\n",
      "User record b'bladecluster.iitp.org: client-2' successfully produced to VJH_020_2 [0] at offset 832\n"
     ]
    },
    {
     "name": "stderr",
     "output_type": "stream",
     "text": [
      "\r",
      " 25%|██▌       | 13/51 [05:43<16:41, 26.35s/it]"
     ]
    },
    {
     "name": "stdout",
     "output_type": "stream",
     "text": [
      "Epoch: 13, Accuracy: 79.0, Test Loss: 2.331600341796875\n",
      "Federated Training Epoch 13 of 51\n",
      "Epoch: 13, Processing Client bladecluster.iitp.org: client-2, Received 0 Updates From []\n",
      "Producing user records to topic VJH_020_2. ^C to exit.\n"
     ]
    }
   ],
   "source": [
    "# Federated Training\n",
    "for epoch in tqdm(range(fedargs.epochs)):\n",
    "    print(\"Federated Training Epoch {} of {}\".format(epoch, fedargs.epochs))\n",
    "\n",
    "    client_details['model'] = process(client_details['name'], epoch, dt,\n",
    "                                              client_details['model'],\n",
    "                                              client_details['train_loader'],\n",
    "                                              client_details['test_loader'],\n",
    "                                              fedargs, device)"
   ]
  },
  {
   "cell_type": "code",
   "execution_count": null,
   "id": "2c07b013",
   "metadata": {},
   "outputs": [],
   "source": []
  }
 ],
 "metadata": {
  "kernelspec": {
   "display_name": "Python [conda env:syft]",
   "language": "python",
   "name": "conda-env-syft-py"
  },
  "language_info": {
   "codemirror_mode": {
    "name": "ipython",
    "version": 3
   },
   "file_extension": ".py",
   "mimetype": "text/x-python",
   "name": "python",
   "nbconvert_exporter": "python",
   "pygments_lexer": "ipython3",
   "version": "3.9.5"
  }
 },
 "nbformat": 4,
 "nbformat_minor": 5
}
