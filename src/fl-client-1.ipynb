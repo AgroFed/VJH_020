{
 "cells": [
  {
   "cell_type": "code",
   "execution_count": 1,
   "id": "7f8df444",
   "metadata": {},
   "outputs": [],
   "source": [
    "%load_ext autoreload\n",
    "%autoreload 2\n",
    "\n",
    "import copy, os, socket, sys, time\n",
    "from pathlib import Path\n",
    "from tqdm import tqdm\n",
    "\n",
    "import torch\n",
    "from torch import optim\n",
    "\n",
    "sys.path.insert(0, os.path.abspath(os.path.join(os.getcwd(), \"../\")))\n",
    "from libs import data, fl, nn, wandb\n",
    "from libs.distributed import *"
   ]
  },
  {
   "cell_type": "code",
   "execution_count": 2,
   "id": "cd71aade",
   "metadata": {},
   "outputs": [],
   "source": [
    "class FedArgs():\n",
    "    def __init__(self):\n",
    "        self.name = \"client-1\"\n",
    "        self.num_clients = 50\n",
    "        self.epochs = 51\n",
    "        self.local_rounds = 1\n",
    "        self.client_batch_size = 32\n",
    "        self.test_batch_size = 64\n",
    "        self.learning_rate = 0.001\n",
    "        self.weight_decay = None\n",
    "        self.cuda = False\n",
    "        self.seed = 1\n",
    "        self.topic = \"VJH_020_2\"\n",
    "        self.broker_ip = '172.16.26.40:9092'\n",
    "        self.schema_ip = 'http://172.16.26.40:8081'\n",
    "        self.wait_to_consume = 10\n",
    "        self.dataset = \"lemon\"\n",
    "        self.model = nn.LemonNet()\n",
    "        self.train_func = fl.train_model\n",
    "        self.eval_func = fl.evaluate\n",
    "        \n",
    "fedargs = FedArgs()"
   ]
  },
  {
   "cell_type": "code",
   "execution_count": 3,
   "id": "e6f6d316",
   "metadata": {},
   "outputs": [
    {
     "name": "stderr",
     "output_type": "stream",
     "text": [
      "\u001b[34m\u001b[1mwandb\u001b[0m: Currently logged in as: \u001b[33mkasyah\u001b[0m (use `wandb login --relogin` to force relogin)\n",
      "\u001b[34m\u001b[1mwandb\u001b[0m: wandb version 0.12.6 is available!  To upgrade, please run:\n",
      "\u001b[34m\u001b[1mwandb\u001b[0m:  $ pip install wandb --upgrade\n"
     ]
    },
    {
     "data": {
      "text/html": [
       "\n",
       "                    Syncing run <strong><a href=\"https://wandb.ai/kasyah/fl-kafka-client/runs/e4mx2y3z\" target=\"_blank\">VJH_020_1-client-1</a></strong> to <a href=\"https://wandb.ai/kasyah/fl-kafka-client\" target=\"_blank\">Weights & Biases</a> (<a href=\"https://docs.wandb.com/integrations/jupyter.html\" target=\"_blank\">docs</a>).<br/>\n",
       "\n",
       "                "
      ],
      "text/plain": [
       "<IPython.core.display.HTML object>"
      ]
     },
     "metadata": {},
     "output_type": "display_data"
    }
   ],
   "source": [
    "project = 'fl-kafka-client'\n",
    "name = 'VJH_020_1-' + fedargs.name\n",
    "wb = wandb.init(name, project)\n",
    "fedargs.num_clients = 1"
   ]
  },
  {
   "cell_type": "code",
   "execution_count": 4,
   "id": "badfa0d8",
   "metadata": {},
   "outputs": [],
   "source": [
    "use_cuda = fedargs.cuda and torch.cuda.is_available()\n",
    "torch.manual_seed(fedargs.seed)\n",
    "device = torch.device(\"cuda\" if use_cuda else \"cpu\")\n",
    "kwargs = {\"num_workers\": 1, \"pin_memory\": True} if use_cuda else {}"
   ]
  },
  {
   "cell_type": "code",
   "execution_count": 5,
   "id": "4cfa76c6",
   "metadata": {},
   "outputs": [],
   "source": [
    "host = socket.gethostname()\n",
    "clients = [host + \": \" + fedargs.name]\n",
    "dt = Distributed(clients, fedargs.broker_ip, fedargs.schema_ip, fedargs.wait_to_consume)"
   ]
  },
  {
   "cell_type": "code",
   "execution_count": 6,
   "id": "ad76a57c",
   "metadata": {},
   "outputs": [],
   "source": [
    "# Initialize Global and Client models\n",
    "global_model = copy.deepcopy(fedargs.model)\n",
    "# Load Data to clients\n",
    "train_loader, test_loader = data.load_dataset(fedargs.dataset, fedargs.client_batch_size, fedargs.test_batch_size)\n",
    "\n",
    "client_details = {\"name\": clients[0],\n",
    "                  \"train_loader\": train_loader,\n",
    "                  \"test_loader\": test_loader,\n",
    "                  \"model\": copy.deepcopy(global_model),\n",
    "                  \"model_update\": None}"
   ]
  },
  {
   "cell_type": "code",
   "execution_count": 7,
   "id": "a453be25",
   "metadata": {},
   "outputs": [],
   "source": [
    "def process(client, epoch, dt, model, train_loader, test_loader, fedargs, device):\n",
    "    # Consume Models\n",
    "    client_model_updates = dt.consume_model(client, fedargs.topic, model, epoch)\n",
    "    if client in client_model_updates:\n",
    "        client_model_updates.pop(client)\n",
    "    print(\"Epoch: {}, Processing Client {}, Received {} Updates From {}\".format(epoch, client, \n",
    "                                                                                len(client_model_updates), \n",
    "                                                                                list(client_model_updates.keys())))\n",
    "\n",
    "    #if len(client_model_updates) != 0:\n",
    "    #    model = fl.federated_avg(client_model_updates)\n",
    "    \n",
    "    # Train\n",
    "    model_update, model, loss = fedargs.train_func(model, train_loader, \n",
    "                                                   fedargs.learning_rate,\n",
    "                                                   fedargs.weight_decay,\n",
    "                                                   fedargs.local_rounds, device)\n",
    "    \n",
    "    # Publish Model\n",
    "    epoch = epoch + 1\n",
    "    dt.produce_model(client, fedargs.topic, model, epoch)\n",
    "\n",
    "    # Test, Plot and Log\n",
    "    test_output = fedargs.eval_func(model, test_loader, device)\n",
    "    print(\"Epoch: {}, Accuracy: {}, Test Loss: {}\".format(epoch, test_output[\"accuracy\"], test_output[\"test_loss\"]))\n",
    "    wb.log({client: {\"epoch\": epoch, \"time\": time.time(), \"acc\": test_output[\"accuracy\"], \"loss\": test_output[\"test_loss\"]}})\n",
    "\n",
    "    return model"
   ]
  },
  {
   "cell_type": "code",
   "execution_count": 8,
   "id": "3ede4728",
   "metadata": {},
   "outputs": [
    {
     "name": "stderr",
     "output_type": "stream",
     "text": [
      "\r",
      "  0%|          | 0/51 [00:00<?, ?it/s]"
     ]
    },
    {
     "name": "stdout",
     "output_type": "stream",
     "text": [
      "Federated Training Epoch 0 of 51\n",
      "Epoch: 0, Processing Client bladecluster.iitp.org: client-1, Received 0 Updates From []\n",
      "Producing user records to topic VJH_020_2. ^C to exit.\n",
      "Flushing records...\n",
      "User record b'bladecluster.iitp.org: client-1' successfully produced to VJH_020_2 [0] at offset 467\n"
     ]
    },
    {
     "name": "stderr",
     "output_type": "stream",
     "text": [
      "\r",
      "  2%|▏         | 1/51 [00:27<22:41, 27.22s/it]"
     ]
    },
    {
     "name": "stdout",
     "output_type": "stream",
     "text": [
      "Epoch: 1, Accuracy: 30.0, Test Loss: 1.9879509735107421\n",
      "Federated Training Epoch 1 of 51\n",
      "Epoch: 1, Processing Client bladecluster.iitp.org: client-1, Received 0 Updates From []\n",
      "Producing user records to topic VJH_020_2. ^C to exit.\n",
      "Flushing records...\n",
      "User record b'bladecluster.iitp.org: client-1' successfully produced to VJH_020_2 [0] at offset 468\n"
     ]
    },
    {
     "name": "stderr",
     "output_type": "stream",
     "text": [
      "\r",
      "  4%|▍         | 2/51 [00:54<22:06, 27.06s/it]"
     ]
    },
    {
     "name": "stdout",
     "output_type": "stream",
     "text": [
      "Epoch: 2, Accuracy: 34.0, Test Loss: 1.740234260559082\n",
      "Federated Training Epoch 2 of 51\n",
      "Epoch: 2, Processing Client bladecluster.iitp.org: client-1, Received 0 Updates From []\n",
      "Producing user records to topic VJH_020_2. ^C to exit.\n",
      "Flushing records...\n",
      "User record b'bladecluster.iitp.org: client-1' successfully produced to VJH_020_2 [0] at offset 469\n"
     ]
    },
    {
     "name": "stderr",
     "output_type": "stream",
     "text": [
      "\r",
      "  6%|▌         | 3/51 [01:21<21:34, 26.96s/it]"
     ]
    },
    {
     "name": "stdout",
     "output_type": "stream",
     "text": [
      "Epoch: 3, Accuracy: 44.0, Test Loss: 1.5596535873413087\n",
      "Federated Training Epoch 3 of 51\n",
      "Epoch: 3, Processing Client bladecluster.iitp.org: client-1, Received 0 Updates From []\n",
      "Producing user records to topic VJH_020_2. ^C to exit.\n",
      "Flushing records...\n",
      "User record b'bladecluster.iitp.org: client-1' successfully produced to VJH_020_2 [0] at offset 470\n"
     ]
    },
    {
     "name": "stderr",
     "output_type": "stream",
     "text": [
      "\r",
      "  8%|▊         | 4/51 [01:48<21:08, 26.98s/it]"
     ]
    },
    {
     "name": "stdout",
     "output_type": "stream",
     "text": [
      "Epoch: 4, Accuracy: 38.0, Test Loss: 1.5897346115112305\n",
      "Federated Training Epoch 4 of 51\n",
      "Epoch: 4, Processing Client bladecluster.iitp.org: client-1, Received 0 Updates From []\n",
      "Producing user records to topic VJH_020_2. ^C to exit.\n",
      "Flushing records...\n",
      "User record b'bladecluster.iitp.org: client-1' successfully produced to VJH_020_2 [0] at offset 471\n"
     ]
    },
    {
     "name": "stderr",
     "output_type": "stream",
     "text": [
      "\r",
      " 10%|▉         | 5/51 [02:14<20:34, 26.84s/it]"
     ]
    },
    {
     "name": "stdout",
     "output_type": "stream",
     "text": [
      "Epoch: 5, Accuracy: 53.0, Test Loss: 1.405494384765625\n",
      "Federated Training Epoch 5 of 51\n",
      "Epoch: 5, Processing Client bladecluster.iitp.org: client-1, Received 0 Updates From []\n",
      "Producing user records to topic VJH_020_2. ^C to exit.\n",
      "Flushing records...\n",
      "User record b'bladecluster.iitp.org: client-1' successfully produced to VJH_020_2 [0] at offset 472\n"
     ]
    },
    {
     "name": "stderr",
     "output_type": "stream",
     "text": [
      "\r",
      " 12%|█▏        | 6/51 [02:41<20:04, 26.76s/it]"
     ]
    },
    {
     "name": "stdout",
     "output_type": "stream",
     "text": [
      "Epoch: 6, Accuracy: 55.00000000000001, Test Loss: 1.264246826171875\n",
      "Federated Training Epoch 6 of 51\n",
      "Epoch: 6, Processing Client bladecluster.iitp.org: client-1, Received 0 Updates From []\n",
      "Producing user records to topic VJH_020_2. ^C to exit.\n",
      "Flushing records...\n",
      "User record b'bladecluster.iitp.org: client-1' successfully produced to VJH_020_2 [0] at offset 473\n"
     ]
    },
    {
     "name": "stderr",
     "output_type": "stream",
     "text": [
      "\r",
      " 14%|█▎        | 7/51 [03:08<19:38, 26.79s/it]"
     ]
    },
    {
     "name": "stdout",
     "output_type": "stream",
     "text": [
      "Epoch: 7, Accuracy: 56.00000000000001, Test Loss: 1.2128110504150391\n",
      "Federated Training Epoch 7 of 51\n",
      "Epoch: 7, Processing Client bladecluster.iitp.org: client-1, Received 0 Updates From []\n",
      "Producing user records to topic VJH_020_2. ^C to exit.\n",
      "Flushing records...\n",
      "User record b'bladecluster.iitp.org: client-1' successfully produced to VJH_020_2 [0] at offset 474\n"
     ]
    },
    {
     "name": "stderr",
     "output_type": "stream",
     "text": [
      "\r",
      " 16%|█▌        | 8/51 [03:35<19:16, 26.91s/it]"
     ]
    },
    {
     "name": "stdout",
     "output_type": "stream",
     "text": [
      "Epoch: 8, Accuracy: 69.0, Test Loss: 0.9963400077819824\n",
      "Federated Training Epoch 8 of 51\n",
      "Epoch: 8, Processing Client bladecluster.iitp.org: client-1, Received 0 Updates From []\n",
      "Producing user records to topic VJH_020_2. ^C to exit.\n",
      "Flushing records...\n",
      "User record b'bladecluster.iitp.org: client-1' successfully produced to VJH_020_2 [0] at offset 475\n"
     ]
    },
    {
     "name": "stderr",
     "output_type": "stream",
     "text": [
      "\r",
      " 18%|█▊        | 9/51 [04:01<18:44, 26.77s/it]"
     ]
    },
    {
     "name": "stdout",
     "output_type": "stream",
     "text": [
      "Epoch: 9, Accuracy: 70.0, Test Loss: 0.9378636169433594\n",
      "Federated Training Epoch 9 of 51\n",
      "Epoch: 9, Processing Client bladecluster.iitp.org: client-1, Received 0 Updates From []\n",
      "Producing user records to topic VJH_020_2. ^C to exit.\n",
      "Flushing records...\n",
      "User record b'bladecluster.iitp.org: client-1' successfully produced to VJH_020_2 [0] at offset 476\n"
     ]
    },
    {
     "name": "stderr",
     "output_type": "stream",
     "text": [
      "\r",
      " 20%|█▉        | 10/51 [04:27<18:09, 26.58s/it]"
     ]
    },
    {
     "name": "stdout",
     "output_type": "stream",
     "text": [
      "Epoch: 10, Accuracy: 69.0, Test Loss: 0.8910375785827637\n",
      "Federated Training Epoch 10 of 51\n",
      "Epoch: 10, Processing Client bladecluster.iitp.org: client-1, Received 0 Updates From []\n",
      "Producing user records to topic VJH_020_2. ^C to exit.\n",
      "Flushing records...\n",
      "User record b'bladecluster.iitp.org: client-1' successfully produced to VJH_020_2 [0] at offset 477\n"
     ]
    },
    {
     "name": "stderr",
     "output_type": "stream",
     "text": [
      "\r",
      " 22%|██▏       | 11/51 [04:54<17:47, 26.68s/it]"
     ]
    },
    {
     "name": "stdout",
     "output_type": "stream",
     "text": [
      "Epoch: 11, Accuracy: 71.0, Test Loss: 1.0580226516723632\n",
      "Federated Training Epoch 11 of 51\n",
      "Epoch: 11, Processing Client bladecluster.iitp.org: client-1, Received 0 Updates From []\n",
      "Producing user records to topic VJH_020_2. ^C to exit.\n",
      "Flushing records...\n",
      "User record b'bladecluster.iitp.org: client-1' successfully produced to VJH_020_2 [0] at offset 478\n"
     ]
    },
    {
     "name": "stderr",
     "output_type": "stream",
     "text": [
      "\r",
      " 24%|██▎       | 12/51 [05:21<17:21, 26.70s/it]"
     ]
    },
    {
     "name": "stdout",
     "output_type": "stream",
     "text": [
      "Epoch: 12, Accuracy: 69.0, Test Loss: 0.9997389221191406\n",
      "Federated Training Epoch 12 of 51\n",
      "Epoch: 12, Processing Client bladecluster.iitp.org: client-1, Received 0 Updates From []\n",
      "Producing user records to topic VJH_020_2. ^C to exit.\n",
      "Flushing records...\n",
      "User record b'bladecluster.iitp.org: client-1' successfully produced to VJH_020_2 [0] at offset 479\n"
     ]
    },
    {
     "name": "stderr",
     "output_type": "stream",
     "text": [
      "\r",
      " 25%|██▌       | 13/51 [05:48<16:54, 26.71s/it]"
     ]
    },
    {
     "name": "stdout",
     "output_type": "stream",
     "text": [
      "Epoch: 13, Accuracy: 71.0, Test Loss: 0.8658192443847657\n",
      "Federated Training Epoch 13 of 51\n",
      "Epoch: 13, Processing Client bladecluster.iitp.org: client-1, Received 0 Updates From []\n",
      "Producing user records to topic VJH_020_2. ^C to exit.\n",
      "Flushing records...\n",
      "User record b'bladecluster.iitp.org: client-1' successfully produced to VJH_020_2 [0] at offset 480\n"
     ]
    },
    {
     "name": "stderr",
     "output_type": "stream",
     "text": [
      "\r",
      " 27%|██▋       | 14/51 [06:14<16:26, 26.67s/it]"
     ]
    },
    {
     "name": "stdout",
     "output_type": "stream",
     "text": [
      "Epoch: 14, Accuracy: 71.0, Test Loss: 0.852542896270752\n",
      "Federated Training Epoch 14 of 51\n",
      "Epoch: 14, Processing Client bladecluster.iitp.org: client-1, Received 0 Updates From []\n",
      "Producing user records to topic VJH_020_2. ^C to exit.\n",
      "Flushing records...\n",
      "User record b'bladecluster.iitp.org: client-1' successfully produced to VJH_020_2 [0] at offset 481\n"
     ]
    },
    {
     "name": "stderr",
     "output_type": "stream",
     "text": [
      "\r",
      " 29%|██▉       | 15/51 [06:41<15:59, 26.67s/it]"
     ]
    },
    {
     "name": "stdout",
     "output_type": "stream",
     "text": [
      "Epoch: 15, Accuracy: 78.0, Test Loss: 0.9631198692321777\n",
      "Federated Training Epoch 15 of 51\n",
      "Epoch: 15, Processing Client bladecluster.iitp.org: client-1, Received 0 Updates From []\n",
      "Producing user records to topic VJH_020_2. ^C to exit.\n",
      "Flushing records...\n",
      "User record b'bladecluster.iitp.org: client-1' successfully produced to VJH_020_2 [0] at offset 482\n"
     ]
    },
    {
     "name": "stderr",
     "output_type": "stream",
     "text": [
      "\r",
      " 31%|███▏      | 16/51 [07:07<15:30, 26.60s/it]"
     ]
    },
    {
     "name": "stdout",
     "output_type": "stream",
     "text": [
      "Epoch: 16, Accuracy: 71.0, Test Loss: 1.1263607788085936\n",
      "Federated Training Epoch 16 of 51\n",
      "Epoch: 16, Processing Client bladecluster.iitp.org: client-1, Received 0 Updates From []\n",
      "Producing user records to topic VJH_020_2. ^C to exit.\n",
      "Flushing records...\n",
      "User record b'bladecluster.iitp.org: client-1' successfully produced to VJH_020_2 [0] at offset 483\n"
     ]
    },
    {
     "name": "stderr",
     "output_type": "stream",
     "text": [
      "\r",
      " 33%|███▎      | 17/51 [07:34<15:09, 26.74s/it]"
     ]
    },
    {
     "name": "stdout",
     "output_type": "stream",
     "text": [
      "Epoch: 17, Accuracy: 76.0, Test Loss: 0.983884048461914\n",
      "Federated Training Epoch 17 of 51\n",
      "Epoch: 17, Processing Client bladecluster.iitp.org: client-1, Received 0 Updates From []\n",
      "Producing user records to topic VJH_020_2. ^C to exit.\n",
      "Flushing records...\n",
      "User record b'bladecluster.iitp.org: client-1' successfully produced to VJH_020_2 [0] at offset 484\n"
     ]
    },
    {
     "name": "stderr",
     "output_type": "stream",
     "text": [
      "\r",
      " 35%|███▌      | 18/51 [08:01<14:41, 26.72s/it]"
     ]
    },
    {
     "name": "stdout",
     "output_type": "stream",
     "text": [
      "Epoch: 18, Accuracy: 76.0, Test Loss: 1.1098197174072266\n",
      "Federated Training Epoch 18 of 51\n",
      "Epoch: 18, Processing Client bladecluster.iitp.org: client-1, Received 0 Updates From []\n",
      "Producing user records to topic VJH_020_2. ^C to exit.\n",
      "Flushing records...\n",
      "User record b'bladecluster.iitp.org: client-1' successfully produced to VJH_020_2 [0] at offset 485\n"
     ]
    },
    {
     "name": "stderr",
     "output_type": "stream",
     "text": [
      "\r",
      " 37%|███▋      | 19/51 [08:28<14:16, 26.77s/it]"
     ]
    },
    {
     "name": "stdout",
     "output_type": "stream",
     "text": [
      "Epoch: 19, Accuracy: 75.0, Test Loss: 1.1365054893493651\n",
      "Federated Training Epoch 19 of 51\n",
      "Epoch: 19, Processing Client bladecluster.iitp.org: client-1, Received 0 Updates From []\n",
      "Producing user records to topic VJH_020_2. ^C to exit.\n",
      "Flushing records...\n",
      "User record b'bladecluster.iitp.org: client-1' successfully produced to VJH_020_2 [0] at offset 486\n"
     ]
    },
    {
     "name": "stderr",
     "output_type": "stream",
     "text": [
      "\r",
      " 39%|███▉      | 20/51 [08:55<13:48, 26.74s/it]"
     ]
    },
    {
     "name": "stdout",
     "output_type": "stream",
     "text": [
      "Epoch: 20, Accuracy: 75.0, Test Loss: 1.207489013671875\n",
      "Federated Training Epoch 20 of 51\n",
      "Epoch: 20, Processing Client bladecluster.iitp.org: client-1, Received 0 Updates From []\n",
      "Producing user records to topic VJH_020_2. ^C to exit.\n",
      "Flushing records...\n",
      "User record b'bladecluster.iitp.org: client-1' successfully produced to VJH_020_2 [0] at offset 487\n"
     ]
    },
    {
     "name": "stderr",
     "output_type": "stream",
     "text": [
      "\r",
      " 41%|████      | 21/51 [09:21<13:18, 26.60s/it]"
     ]
    },
    {
     "name": "stdout",
     "output_type": "stream",
     "text": [
      "Epoch: 21, Accuracy: 75.0, Test Loss: 1.1770660781860351\n",
      "Federated Training Epoch 21 of 51\n",
      "Epoch: 21, Processing Client bladecluster.iitp.org: client-1, Received 0 Updates From []\n",
      "Producing user records to topic VJH_020_2. ^C to exit.\n",
      "Flushing records...\n",
      "User record b'bladecluster.iitp.org: client-1' successfully produced to VJH_020_2 [0] at offset 488\n"
     ]
    },
    {
     "name": "stderr",
     "output_type": "stream",
     "text": [
      "\r",
      " 43%|████▎     | 22/51 [09:47<12:48, 26.48s/it]"
     ]
    },
    {
     "name": "stdout",
     "output_type": "stream",
     "text": [
      "Epoch: 22, Accuracy: 74.0, Test Loss: 1.1715379333496094\n",
      "Federated Training Epoch 22 of 51\n",
      "Epoch: 22, Processing Client bladecluster.iitp.org: client-1, Received 0 Updates From []\n",
      "Producing user records to topic VJH_020_2. ^C to exit.\n",
      "Flushing records...\n",
      "User record b'bladecluster.iitp.org: client-1' successfully produced to VJH_020_2 [0] at offset 489\n"
     ]
    },
    {
     "name": "stderr",
     "output_type": "stream",
     "text": [
      "\r",
      " 45%|████▌     | 23/51 [10:14<12:25, 26.62s/it]"
     ]
    },
    {
     "name": "stdout",
     "output_type": "stream",
     "text": [
      "Epoch: 23, Accuracy: 78.0, Test Loss: 1.1704704284667968\n",
      "Federated Training Epoch 23 of 51\n",
      "Epoch: 23, Processing Client bladecluster.iitp.org: client-1, Received 0 Updates From []\n",
      "Producing user records to topic VJH_020_2. ^C to exit.\n",
      "Flushing records...\n",
      "User record b'bladecluster.iitp.org: client-1' successfully produced to VJH_020_2 [0] at offset 490\n"
     ]
    },
    {
     "name": "stderr",
     "output_type": "stream",
     "text": [
      "\r",
      " 47%|████▋     | 24/51 [10:42<12:07, 26.95s/it]"
     ]
    },
    {
     "name": "stdout",
     "output_type": "stream",
     "text": [
      "Epoch: 24, Accuracy: 73.0, Test Loss: 1.627793655395508\n",
      "Federated Training Epoch 24 of 51\n",
      "Epoch: 24, Processing Client bladecluster.iitp.org: client-1, Received 0 Updates From []\n",
      "Producing user records to topic VJH_020_2. ^C to exit.\n",
      "Flushing records...\n",
      "User record b'bladecluster.iitp.org: client-1' successfully produced to VJH_020_2 [0] at offset 491\n"
     ]
    },
    {
     "name": "stderr",
     "output_type": "stream",
     "text": [
      "\r",
      " 49%|████▉     | 25/51 [11:09<11:38, 26.87s/it]"
     ]
    },
    {
     "name": "stdout",
     "output_type": "stream",
     "text": [
      "Epoch: 25, Accuracy: 71.0, Test Loss: 1.5865292739868164\n",
      "Federated Training Epoch 25 of 51\n",
      "Epoch: 25, Processing Client bladecluster.iitp.org: client-1, Received 0 Updates From []\n",
      "Producing user records to topic VJH_020_2. ^C to exit.\n",
      "Flushing records...\n",
      "User record b'bladecluster.iitp.org: client-1' successfully produced to VJH_020_2 [0] at offset 492\n"
     ]
    },
    {
     "name": "stderr",
     "output_type": "stream",
     "text": [
      "\r",
      " 51%|█████     | 26/51 [11:35<11:10, 26.83s/it]"
     ]
    },
    {
     "name": "stdout",
     "output_type": "stream",
     "text": [
      "Epoch: 26, Accuracy: 74.0, Test Loss: 1.4844979095458983\n",
      "Federated Training Epoch 26 of 51\n",
      "Epoch: 26, Processing Client bladecluster.iitp.org: client-1, Received 0 Updates From []\n",
      "Producing user records to topic VJH_020_2. ^C to exit.\n",
      "Flushing records...\n",
      "User record b'bladecluster.iitp.org: client-1' successfully produced to VJH_020_2 [0] at offset 493\n"
     ]
    },
    {
     "name": "stderr",
     "output_type": "stream",
     "text": [
      "\r",
      " 53%|█████▎    | 27/51 [12:01<10:39, 26.65s/it]"
     ]
    },
    {
     "name": "stdout",
     "output_type": "stream",
     "text": [
      "Epoch: 27, Accuracy: 75.0, Test Loss: 1.4791383361816406\n",
      "Federated Training Epoch 27 of 51\n",
      "Epoch: 27, Processing Client bladecluster.iitp.org: client-1, Received 0 Updates From []\n",
      "Producing user records to topic VJH_020_2. ^C to exit.\n",
      "Flushing records...\n",
      "User record b'bladecluster.iitp.org: client-1' successfully produced to VJH_020_2 [0] at offset 494\n"
     ]
    },
    {
     "name": "stderr",
     "output_type": "stream",
     "text": [
      "\r",
      " 55%|█████▍    | 28/51 [12:28<10:12, 26.64s/it]"
     ]
    },
    {
     "name": "stdout",
     "output_type": "stream",
     "text": [
      "Epoch: 28, Accuracy: 73.0, Test Loss: 1.0738216972351073\n",
      "Federated Training Epoch 28 of 51\n",
      "Epoch: 28, Processing Client bladecluster.iitp.org: client-1, Received 0 Updates From []\n",
      "Producing user records to topic VJH_020_2. ^C to exit.\n",
      "Flushing records...\n",
      "User record b'bladecluster.iitp.org: client-1' successfully produced to VJH_020_2 [0] at offset 495\n"
     ]
    },
    {
     "name": "stderr",
     "output_type": "stream",
     "text": [
      "\r",
      " 57%|█████▋    | 29/51 [12:55<09:44, 26.56s/it]"
     ]
    },
    {
     "name": "stdout",
     "output_type": "stream",
     "text": [
      "Epoch: 29, Accuracy: 76.0, Test Loss: 1.307210121154785\n",
      "Federated Training Epoch 29 of 51\n",
      "Epoch: 29, Processing Client bladecluster.iitp.org: client-1, Received 0 Updates From []\n",
      "Producing user records to topic VJH_020_2. ^C to exit.\n",
      "Flushing records...\n",
      "User record b'bladecluster.iitp.org: client-1' successfully produced to VJH_020_2 [0] at offset 496\n"
     ]
    },
    {
     "name": "stderr",
     "output_type": "stream",
     "text": [
      "\r",
      " 59%|█████▉    | 30/51 [13:22<09:25, 26.92s/it]"
     ]
    },
    {
     "name": "stdout",
     "output_type": "stream",
     "text": [
      "Epoch: 30, Accuracy: 73.0, Test Loss: 1.5447627639770507\n",
      "Federated Training Epoch 30 of 51\n",
      "Epoch: 30, Processing Client bladecluster.iitp.org: client-1, Received 0 Updates From []\n",
      "Producing user records to topic VJH_020_2. ^C to exit.\n",
      "Flushing records...\n",
      "User record b'bladecluster.iitp.org: client-1' successfully produced to VJH_020_2 [0] at offset 497\n"
     ]
    },
    {
     "name": "stderr",
     "output_type": "stream",
     "text": [
      "\r",
      " 61%|██████    | 31/51 [13:48<08:53, 26.65s/it]"
     ]
    },
    {
     "name": "stdout",
     "output_type": "stream",
     "text": [
      "Epoch: 31, Accuracy: 77.0, Test Loss: 1.5059788131713867\n",
      "Federated Training Epoch 31 of 51\n",
      "Epoch: 31, Processing Client bladecluster.iitp.org: client-1, Received 0 Updates From []\n",
      "Producing user records to topic VJH_020_2. ^C to exit.\n",
      "Flushing records...\n",
      "User record b'bladecluster.iitp.org: client-1' successfully produced to VJH_020_2 [0] at offset 498\n"
     ]
    },
    {
     "name": "stderr",
     "output_type": "stream",
     "text": [
      "\r",
      " 63%|██████▎   | 32/51 [14:14<08:23, 26.51s/it]"
     ]
    },
    {
     "name": "stdout",
     "output_type": "stream",
     "text": [
      "Epoch: 32, Accuracy: 72.0, Test Loss: 1.291447067260742\n",
      "Federated Training Epoch 32 of 51\n",
      "Epoch: 32, Processing Client bladecluster.iitp.org: client-1, Received 0 Updates From []\n",
      "Producing user records to topic VJH_020_2. ^C to exit.\n",
      "Flushing records...\n",
      "User record b'bladecluster.iitp.org: client-1' successfully produced to VJH_020_2 [0] at offset 499\n"
     ]
    },
    {
     "name": "stderr",
     "output_type": "stream",
     "text": [
      "\r",
      " 65%|██████▍   | 33/51 [14:42<08:00, 26.71s/it]"
     ]
    },
    {
     "name": "stdout",
     "output_type": "stream",
     "text": [
      "Epoch: 33, Accuracy: 72.0, Test Loss: 1.6814501953125\n",
      "Federated Training Epoch 33 of 51\n",
      "Epoch: 33, Processing Client bladecluster.iitp.org: client-1, Received 0 Updates From []\n",
      "Producing user records to topic VJH_020_2. ^C to exit.\n",
      "Flushing records...\n",
      "User record b'bladecluster.iitp.org: client-1' successfully produced to VJH_020_2 [0] at offset 500\n"
     ]
    },
    {
     "name": "stderr",
     "output_type": "stream",
     "text": [
      "\r",
      " 67%|██████▋   | 34/51 [15:08<07:31, 26.54s/it]"
     ]
    },
    {
     "name": "stdout",
     "output_type": "stream",
     "text": [
      "Epoch: 34, Accuracy: 75.0, Test Loss: 1.4474618530273438\n",
      "Federated Training Epoch 34 of 51\n",
      "Epoch: 34, Processing Client bladecluster.iitp.org: client-1, Received 0 Updates From []\n",
      "Producing user records to topic VJH_020_2. ^C to exit.\n",
      "Flushing records...\n",
      "User record b'bladecluster.iitp.org: client-1' successfully produced to VJH_020_2 [0] at offset 501\n"
     ]
    },
    {
     "name": "stderr",
     "output_type": "stream",
     "text": [
      "\r",
      " 69%|██████▊   | 35/51 [15:35<07:05, 26.62s/it]"
     ]
    },
    {
     "name": "stdout",
     "output_type": "stream",
     "text": [
      "Epoch: 35, Accuracy: 79.0, Test Loss: 1.6328457641601561\n",
      "Federated Training Epoch 35 of 51\n",
      "Epoch: 35, Processing Client bladecluster.iitp.org: client-1, Received 0 Updates From []\n",
      "Producing user records to topic VJH_020_2. ^C to exit.\n",
      "Flushing records...\n",
      "User record b'bladecluster.iitp.org: client-1' successfully produced to VJH_020_2 [0] at offset 502\n"
     ]
    },
    {
     "name": "stderr",
     "output_type": "stream",
     "text": [
      "\r",
      " 71%|███████   | 36/51 [16:01<06:37, 26.49s/it]"
     ]
    },
    {
     "name": "stdout",
     "output_type": "stream",
     "text": [
      "Epoch: 36, Accuracy: 72.0, Test Loss: 1.8989370727539063\n",
      "Federated Training Epoch 36 of 51\n",
      "Epoch: 36, Processing Client bladecluster.iitp.org: client-1, Received 0 Updates From []\n",
      "Producing user records to topic VJH_020_2. ^C to exit.\n",
      "Flushing records...\n",
      "User record b'bladecluster.iitp.org: client-1' successfully produced to VJH_020_2 [0] at offset 503\n"
     ]
    },
    {
     "name": "stderr",
     "output_type": "stream",
     "text": [
      "\r",
      " 73%|███████▎  | 37/51 [16:28<06:14, 26.76s/it]"
     ]
    },
    {
     "name": "stdout",
     "output_type": "stream",
     "text": [
      "Epoch: 37, Accuracy: 71.0, Test Loss: 2.244438400268555\n",
      "Federated Training Epoch 37 of 51\n",
      "Epoch: 37, Processing Client bladecluster.iitp.org: client-1, Received 0 Updates From []\n",
      "Producing user records to topic VJH_020_2. ^C to exit.\n",
      "Flushing records...\n",
      "User record b'bladecluster.iitp.org: client-1' successfully produced to VJH_020_2 [0] at offset 504\n"
     ]
    },
    {
     "name": "stderr",
     "output_type": "stream",
     "text": [
      "\r",
      " 75%|███████▍  | 38/51 [16:54<05:45, 26.55s/it]"
     ]
    },
    {
     "name": "stdout",
     "output_type": "stream",
     "text": [
      "Epoch: 38, Accuracy: 73.0, Test Loss: 2.0947211456298827\n",
      "Federated Training Epoch 38 of 51\n",
      "Epoch: 38, Processing Client bladecluster.iitp.org: client-1, Received 0 Updates From []\n",
      "Producing user records to topic VJH_020_2. ^C to exit.\n",
      "Flushing records...\n",
      "User record b'bladecluster.iitp.org: client-1' successfully produced to VJH_020_2 [0] at offset 505\n"
     ]
    },
    {
     "name": "stderr",
     "output_type": "stream",
     "text": [
      "\r",
      " 76%|███████▋  | 39/51 [17:20<05:17, 26.44s/it]"
     ]
    },
    {
     "name": "stdout",
     "output_type": "stream",
     "text": [
      "Epoch: 39, Accuracy: 70.0, Test Loss: 2.004187698364258\n",
      "Federated Training Epoch 39 of 51\n",
      "Epoch: 39, Processing Client bladecluster.iitp.org: client-1, Received 0 Updates From []\n",
      "Producing user records to topic VJH_020_2. ^C to exit.\n",
      "Flushing records...\n",
      "User record b'bladecluster.iitp.org: client-1' successfully produced to VJH_020_2 [0] at offset 506\n"
     ]
    },
    {
     "name": "stderr",
     "output_type": "stream",
     "text": [
      "\r",
      " 78%|███████▊  | 40/51 [17:46<04:49, 26.31s/it]"
     ]
    },
    {
     "name": "stdout",
     "output_type": "stream",
     "text": [
      "Epoch: 40, Accuracy: 77.0, Test Loss: 1.92245548248291\n",
      "Federated Training Epoch 40 of 51\n",
      "Epoch: 40, Processing Client bladecluster.iitp.org: client-1, Received 0 Updates From []\n",
      "Producing user records to topic VJH_020_2. ^C to exit.\n",
      "Flushing records...\n",
      "User record b'bladecluster.iitp.org: client-1' successfully produced to VJH_020_2 [0] at offset 507\n"
     ]
    },
    {
     "name": "stderr",
     "output_type": "stream",
     "text": [
      "\r",
      " 80%|████████  | 41/51 [18:13<04:22, 26.28s/it]"
     ]
    },
    {
     "name": "stdout",
     "output_type": "stream",
     "text": [
      "Epoch: 41, Accuracy: 73.0, Test Loss: 2.0343262481689455\n",
      "Federated Training Epoch 41 of 51\n",
      "Epoch: 41, Processing Client bladecluster.iitp.org: client-1, Received 0 Updates From []\n",
      "Producing user records to topic VJH_020_2. ^C to exit.\n",
      "Flushing records...\n",
      "User record b'bladecluster.iitp.org: client-1' successfully produced to VJH_020_2 [0] at offset 508\n"
     ]
    },
    {
     "name": "stderr",
     "output_type": "stream",
     "text": [
      "\r",
      " 82%|████████▏ | 42/51 [18:40<03:58, 26.53s/it]"
     ]
    },
    {
     "name": "stdout",
     "output_type": "stream",
     "text": [
      "Epoch: 42, Accuracy: 72.0, Test Loss: 2.1452771759033205\n",
      "Federated Training Epoch 42 of 51\n",
      "Epoch: 42, Processing Client bladecluster.iitp.org: client-1, Received 0 Updates From []\n",
      "Producing user records to topic VJH_020_2. ^C to exit.\n",
      "Flushing records...\n",
      "User record b'bladecluster.iitp.org: client-1' successfully produced to VJH_020_2 [0] at offset 509\n"
     ]
    },
    {
     "name": "stderr",
     "output_type": "stream",
     "text": [
      "\r",
      " 84%|████████▍ | 43/51 [19:08<03:35, 26.91s/it]"
     ]
    },
    {
     "name": "stdout",
     "output_type": "stream",
     "text": [
      "Epoch: 43, Accuracy: 74.0, Test Loss: 2.271617202758789\n",
      "Federated Training Epoch 43 of 51\n",
      "Epoch: 43, Processing Client bladecluster.iitp.org: client-1, Received 0 Updates From []\n",
      "Producing user records to topic VJH_020_2. ^C to exit.\n",
      "Flushing records...\n",
      "User record b'bladecluster.iitp.org: client-1' successfully produced to VJH_020_2 [0] at offset 510\n"
     ]
    },
    {
     "name": "stderr",
     "output_type": "stream",
     "text": [
      "\r",
      " 86%|████████▋ | 44/51 [19:34<03:06, 26.67s/it]"
     ]
    },
    {
     "name": "stdout",
     "output_type": "stream",
     "text": [
      "Epoch: 44, Accuracy: 75.0, Test Loss: 2.3648915100097656\n",
      "Federated Training Epoch 44 of 51\n",
      "Epoch: 44, Processing Client bladecluster.iitp.org: client-1, Received 0 Updates From []\n",
      "Producing user records to topic VJH_020_2. ^C to exit.\n",
      "Flushing records...\n",
      "User record b'bladecluster.iitp.org: client-1' successfully produced to VJH_020_2 [0] at offset 511\n"
     ]
    },
    {
     "name": "stderr",
     "output_type": "stream",
     "text": [
      "\r",
      " 88%|████████▊ | 45/51 [20:00<02:38, 26.48s/it]"
     ]
    },
    {
     "name": "stdout",
     "output_type": "stream",
     "text": [
      "Epoch: 45, Accuracy: 73.0, Test Loss: 2.431012496948242\n",
      "Federated Training Epoch 45 of 51\n",
      "Epoch: 45, Processing Client bladecluster.iitp.org: client-1, Received 0 Updates From []\n",
      "Producing user records to topic VJH_020_2. ^C to exit.\n",
      "Flushing records...\n",
      "User record b'bladecluster.iitp.org: client-1' successfully produced to VJH_020_2 [0] at offset 512\n"
     ]
    },
    {
     "name": "stderr",
     "output_type": "stream",
     "text": [
      "\r",
      " 90%|█████████ | 46/51 [20:26<02:12, 26.52s/it]"
     ]
    },
    {
     "name": "stdout",
     "output_type": "stream",
     "text": [
      "Epoch: 46, Accuracy: 74.0, Test Loss: 2.419771614074707\n",
      "Federated Training Epoch 46 of 51\n",
      "Epoch: 46, Processing Client bladecluster.iitp.org: client-1, Received 0 Updates From []\n",
      "Producing user records to topic VJH_020_2. ^C to exit.\n",
      "Flushing records...\n",
      "User record b'bladecluster.iitp.org: client-1' successfully produced to VJH_020_2 [0] at offset 513\n"
     ]
    },
    {
     "name": "stderr",
     "output_type": "stream",
     "text": [
      "\r",
      " 92%|█████████▏| 47/51 [20:53<01:45, 26.44s/it]"
     ]
    },
    {
     "name": "stdout",
     "output_type": "stream",
     "text": [
      "Epoch: 47, Accuracy: 73.0, Test Loss: 2.639082336425781\n",
      "Federated Training Epoch 47 of 51\n",
      "Epoch: 47, Processing Client bladecluster.iitp.org: client-1, Received 0 Updates From []\n",
      "Producing user records to topic VJH_020_2. ^C to exit.\n",
      "Flushing records...\n",
      "User record b'bladecluster.iitp.org: client-1' successfully produced to VJH_020_2 [0] at offset 514\n"
     ]
    },
    {
     "name": "stderr",
     "output_type": "stream",
     "text": [
      "\r",
      " 94%|█████████▍| 48/51 [21:19<01:19, 26.57s/it]"
     ]
    },
    {
     "name": "stdout",
     "output_type": "stream",
     "text": [
      "Epoch: 48, Accuracy: 65.0, Test Loss: 3.0808279418945315\n",
      "Federated Training Epoch 48 of 51\n",
      "Epoch: 48, Processing Client bladecluster.iitp.org: client-1, Received 0 Updates From []\n",
      "Producing user records to topic VJH_020_2. ^C to exit.\n",
      "Flushing records...\n",
      "User record b'bladecluster.iitp.org: client-1' successfully produced to VJH_020_2 [0] at offset 515\n"
     ]
    },
    {
     "name": "stderr",
     "output_type": "stream",
     "text": [
      "\r",
      " 96%|█████████▌| 49/51 [21:46<00:52, 26.50s/it]"
     ]
    },
    {
     "name": "stdout",
     "output_type": "stream",
     "text": [
      "Epoch: 49, Accuracy: 71.0, Test Loss: 2.4560717010498045\n",
      "Federated Training Epoch 49 of 51\n",
      "Epoch: 49, Processing Client bladecluster.iitp.org: client-1, Received 0 Updates From []\n",
      "Producing user records to topic VJH_020_2. ^C to exit.\n",
      "Flushing records...\n",
      "User record b'bladecluster.iitp.org: client-1' successfully produced to VJH_020_2 [0] at offset 516\n"
     ]
    },
    {
     "name": "stderr",
     "output_type": "stream",
     "text": [
      "\r",
      " 98%|█████████▊| 50/51 [22:13<00:26, 26.71s/it]"
     ]
    },
    {
     "name": "stdout",
     "output_type": "stream",
     "text": [
      "Epoch: 50, Accuracy: 78.0, Test Loss: 2.5381378173828124\n",
      "Federated Training Epoch 50 of 51\n",
      "Epoch: 50, Processing Client bladecluster.iitp.org: client-1, Received 0 Updates From []\n",
      "Producing user records to topic VJH_020_2. ^C to exit.\n",
      "Flushing records...\n",
      "User record b'bladecluster.iitp.org: client-1' successfully produced to VJH_020_2 [0] at offset 517\n"
     ]
    },
    {
     "name": "stderr",
     "output_type": "stream",
     "text": [
      "100%|██████████| 51/51 [22:40<00:00, 26.68s/it]"
     ]
    },
    {
     "name": "stdout",
     "output_type": "stream",
     "text": [
      "Epoch: 51, Accuracy: 74.0, Test Loss: 3.0375606536865236\n"
     ]
    },
    {
     "name": "stderr",
     "output_type": "stream",
     "text": [
      "\n"
     ]
    }
   ],
   "source": [
    "# Federated Training\n",
    "for epoch in tqdm(range(fedargs.epochs)):\n",
    "    print(\"Federated Training Epoch {} of {}\".format(epoch, fedargs.epochs))\n",
    "\n",
    "    client_details['model'] = process(client_details['name'], epoch, dt,\n",
    "                                              client_details['model'],\n",
    "                                              client_details['train_loader'],\n",
    "                                              client_details['test_loader'],\n",
    "                                              fedargs, device)"
   ]
  },
  {
   "cell_type": "code",
   "execution_count": null,
   "id": "db580aa6",
   "metadata": {},
   "outputs": [],
   "source": []
  }
 ],
 "metadata": {
  "kernelspec": {
   "display_name": "Python [conda env:syft]",
   "language": "python",
   "name": "conda-env-syft-py"
  },
  "language_info": {
   "codemirror_mode": {
    "name": "ipython",
    "version": 3
   },
   "file_extension": ".py",
   "mimetype": "text/x-python",
   "name": "python",
   "nbconvert_exporter": "python",
   "pygments_lexer": "ipython3",
   "version": "3.9.5"
  }
 },
 "nbformat": 4,
 "nbformat_minor": 5
}
